{
 "cells": [
  {
   "cell_type": "code",
   "execution_count": null,
   "id": "bc47eb02",
   "metadata": {},
   "outputs": [
    {
     "name": "stdout",
     "output_type": "stream",
     "text": [
      "Using device: cpu\n"
     ]
    },
    {
     "name": "stderr",
     "output_type": "stream",
     "text": [
      "d:\\Qdrant\\env\\lib\\site-packages\\torchvision\\models\\_utils.py:208: UserWarning: The parameter 'pretrained' is deprecated since 0.13 and may be removed in the future, please use 'weights' instead.\n",
      "  warnings.warn(\n",
      "d:\\Qdrant\\env\\lib\\site-packages\\torchvision\\models\\_utils.py:223: UserWarning: Arguments other than a weight enum or `None` for 'weights' are deprecated since 0.13 and may be removed in the future. The current behavior is equivalent to passing `weights=ResNet50_Weights.IMAGENET1K_V1`. You can also use `weights=ResNet50_Weights.DEFAULT` to get the most up-to-date weights.\n",
      "  warnings.warn(msg)\n"
     ]
    },
    {
     "name": "stdout",
     "output_type": "stream",
     "text": [
      "Loaded 423 image records\n",
      "Unique species: 88\n",
      "Unique bird_ids: 88\n"
     ]
    },
    {
     "name": "stderr",
     "output_type": "stream",
     "text": [
      "Processing images:   0%|          | 0/423 [00:00<?, ?it/s]"
     ]
    },
    {
     "name": "stdout",
     "output_type": "stream",
     "text": [
      "Processing bird_id 0: African Pied Wagtail (image 1)\n"
     ]
    },
    {
     "name": "stderr",
     "output_type": "stream",
     "text": [
      "Processing images:   0%|          | 1/423 [00:00<02:13,  3.15it/s]"
     ]
    },
    {
     "name": "stdout",
     "output_type": "stream",
     "text": [
      "Processing bird_id 0: African Pied Wagtail (image 2)\n"
     ]
    },
    {
     "name": "stderr",
     "output_type": "stream",
     "text": [
      "Processing images:   0%|          | 2/423 [00:00<01:52,  3.75it/s]"
     ]
    },
    {
     "name": "stdout",
     "output_type": "stream",
     "text": [
      "Processing bird_id 0: African Pied Wagtail (image 3)\n"
     ]
    },
    {
     "name": "stderr",
     "output_type": "stream",
     "text": [
      "Processing images:   1%|          | 3/423 [00:00<02:09,  3.25it/s]"
     ]
    },
    {
     "name": "stdout",
     "output_type": "stream",
     "text": [
      "Processing bird_id 0: African Pied Wagtail (image 4)\n"
     ]
    },
    {
     "name": "stderr",
     "output_type": "stream",
     "text": [
      "Processing images:   1%|          | 4/423 [00:01<01:53,  3.69it/s]"
     ]
    },
    {
     "name": "stdout",
     "output_type": "stream",
     "text": [
      "Processing bird_id 0: African Pied Wagtail (image 5)\n"
     ]
    },
    {
     "name": "stderr",
     "output_type": "stream",
     "text": [
      "Processing images:   1%|          | 5/423 [00:01<01:52,  3.72it/s]"
     ]
    },
    {
     "name": "stdout",
     "output_type": "stream",
     "text": [
      "Processing bird_id 1: Barn Swallow (image 1)\n"
     ]
    },
    {
     "name": "stderr",
     "output_type": "stream",
     "text": [
      "Processing images:   1%|▏         | 6/423 [00:01<01:44,  4.00it/s]"
     ]
    },
    {
     "name": "stdout",
     "output_type": "stream",
     "text": [
      "Processing bird_id 1: Barn Swallow (image 2)\n"
     ]
    },
    {
     "name": "stderr",
     "output_type": "stream",
     "text": [
      "Processing images:   2%|▏         | 7/423 [00:01<01:45,  3.96it/s]"
     ]
    },
    {
     "name": "stdout",
     "output_type": "stream",
     "text": [
      "Processing bird_id 1: Barn Swallow (image 3)\n"
     ]
    },
    {
     "name": "stderr",
     "output_type": "stream",
     "text": [
      "Processing images:   2%|▏         | 8/423 [00:02<01:44,  3.98it/s]"
     ]
    },
    {
     "name": "stdout",
     "output_type": "stream",
     "text": [
      "Processing bird_id 1: Barn Swallow (image 4)\n"
     ]
    },
    {
     "name": "stderr",
     "output_type": "stream",
     "text": [
      "Processing images:   2%|▏         | 9/423 [00:02<01:45,  3.94it/s]"
     ]
    },
    {
     "name": "stdout",
     "output_type": "stream",
     "text": [
      "Processing bird_id 1: Barn Swallow (image 5)\n"
     ]
    },
    {
     "name": "stderr",
     "output_type": "stream",
     "text": [
      "Processing images:   2%|▏         | 10/423 [00:02<01:45,  3.93it/s]"
     ]
    },
    {
     "name": "stdout",
     "output_type": "stream",
     "text": [
      "Processing bird_id 2: Black Woodpecker (image 1)\n"
     ]
    },
    {
     "name": "stderr",
     "output_type": "stream",
     "text": [
      "Processing images:   3%|▎         | 12/423 [00:03<01:48,  3.78it/s]"
     ]
    },
    {
     "name": "stdout",
     "output_type": "stream",
     "text": [
      "Processing bird_id 2: Black Woodpecker (image 2)\n",
      "Processing bird_id 2: Black Woodpecker (image 3)\n"
     ]
    },
    {
     "name": "stderr",
     "output_type": "stream",
     "text": [
      "Processing images:   3%|▎         | 13/423 [00:03<01:57,  3.48it/s]"
     ]
    },
    {
     "name": "stdout",
     "output_type": "stream",
     "text": [
      "Processing bird_id 2: Black Woodpecker (image 4)\n"
     ]
    },
    {
     "name": "stderr",
     "output_type": "stream",
     "text": [
      "Processing images:   3%|▎         | 14/423 [00:03<01:51,  3.67it/s]"
     ]
    },
    {
     "name": "stdout",
     "output_type": "stream",
     "text": [
      "Processing bird_id 2: Black Woodpecker (image 5)\n"
     ]
    },
    {
     "name": "stderr",
     "output_type": "stream",
     "text": [
      "Processing images:   4%|▍         | 16/423 [00:04<01:33,  4.34it/s]"
     ]
    },
    {
     "name": "stdout",
     "output_type": "stream",
     "text": [
      "Processing bird_id 3: Black-headed Gull (image 1)\n",
      "Processing bird_id 3: Black-headed Gull (image 2)\n"
     ]
    },
    {
     "name": "stderr",
     "output_type": "stream",
     "text": [
      "Processing images:   4%|▍         | 18/423 [00:04<01:12,  5.56it/s]"
     ]
    },
    {
     "name": "stdout",
     "output_type": "stream",
     "text": [
      "Processing bird_id 3: Black-headed Gull (image 3)\n",
      "Processing bird_id 3: Black-headed Gull (image 4)\n"
     ]
    },
    {
     "name": "stderr",
     "output_type": "stream",
     "text": [
      "Processing images:   4%|▍         | 19/423 [00:05<02:03,  3.27it/s]"
     ]
    },
    {
     "name": "stdout",
     "output_type": "stream",
     "text": [
      "Processing bird_id 3: Black-headed Gull (image 5)\n"
     ]
    },
    {
     "name": "stderr",
     "output_type": "stream",
     "text": [
      "Processing images:   5%|▍         | 20/423 [00:05<01:59,  3.36it/s]"
     ]
    },
    {
     "name": "stdout",
     "output_type": "stream",
     "text": [
      "Processing bird_id 4: Canada Goose (image 1)\n"
     ]
    },
    {
     "name": "stderr",
     "output_type": "stream",
     "text": [
      "Processing images:   5%|▌         | 22/423 [00:05<01:52,  3.55it/s]"
     ]
    },
    {
     "name": "stdout",
     "output_type": "stream",
     "text": [
      "Processing bird_id 4: Canada Goose (image 2)\n",
      "Processing bird_id 4: Canada Goose (image 3)\n"
     ]
    },
    {
     "name": "stderr",
     "output_type": "stream",
     "text": [
      "Processing images:   5%|▌         | 23/423 [00:06<01:56,  3.44it/s]"
     ]
    },
    {
     "name": "stdout",
     "output_type": "stream",
     "text": [
      "Processing bird_id 4: Canada Goose (image 4)\n"
     ]
    },
    {
     "name": "stderr",
     "output_type": "stream",
     "text": [
      "Processing images:   6%|▌         | 24/423 [00:06<02:06,  3.15it/s]"
     ]
    },
    {
     "name": "stdout",
     "output_type": "stream",
     "text": [
      "Processing bird_id 4: Canada Goose (image 5)\n"
     ]
    },
    {
     "name": "stderr",
     "output_type": "stream",
     "text": [
      "Processing images:   6%|▌         | 25/423 [00:06<02:17,  2.89it/s]"
     ]
    },
    {
     "name": "stdout",
     "output_type": "stream",
     "text": [
      "Processing bird_id 5: Carrion Crow (image 1)\n"
     ]
    },
    {
     "name": "stderr",
     "output_type": "stream",
     "text": [
      "Processing images:   6%|▌         | 26/423 [00:07<02:25,  2.72it/s]"
     ]
    },
    {
     "name": "stdout",
     "output_type": "stream",
     "text": [
      "Processing bird_id 5: Carrion Crow (image 2)\n"
     ]
    },
    {
     "name": "stderr",
     "output_type": "stream",
     "text": [
      "Processing images:   6%|▋         | 27/423 [00:07<02:07,  3.11it/s]"
     ]
    },
    {
     "name": "stdout",
     "output_type": "stream",
     "text": [
      "Processing bird_id 5: Carrion Crow (image 3)\n"
     ]
    },
    {
     "name": "stderr",
     "output_type": "stream",
     "text": [
      "Processing images:   7%|▋         | 28/423 [00:07<02:08,  3.08it/s]"
     ]
    },
    {
     "name": "stdout",
     "output_type": "stream",
     "text": [
      "Processing bird_id 5: Carrion Crow (image 4)\n"
     ]
    },
    {
     "name": "stderr",
     "output_type": "stream",
     "text": [
      "Processing images:   7%|▋         | 29/423 [00:08<02:13,  2.95it/s]"
     ]
    },
    {
     "name": "stdout",
     "output_type": "stream",
     "text": [
      "Processing bird_id 5: Carrion Crow (image 5)\n"
     ]
    },
    {
     "name": "stderr",
     "output_type": "stream",
     "text": [
      "Processing images:   7%|▋         | 30/423 [00:08<02:17,  2.86it/s]"
     ]
    },
    {
     "name": "stdout",
     "output_type": "stream",
     "text": [
      "Processing bird_id 6: Coal Tit (image 1)\n"
     ]
    },
    {
     "name": "stderr",
     "output_type": "stream",
     "text": [
      "Processing images:   7%|▋         | 31/423 [00:09<02:15,  2.90it/s]"
     ]
    },
    {
     "name": "stdout",
     "output_type": "stream",
     "text": [
      "Processing bird_id 6: Coal Tit (image 2)\n"
     ]
    },
    {
     "name": "stderr",
     "output_type": "stream",
     "text": [
      "Processing images:   8%|▊         | 32/423 [00:09<02:04,  3.13it/s]"
     ]
    },
    {
     "name": "stdout",
     "output_type": "stream",
     "text": [
      "Processing bird_id 6: Coal Tit (image 3)\n"
     ]
    },
    {
     "name": "stderr",
     "output_type": "stream",
     "text": [
      "Processing images:   8%|▊         | 34/423 [00:09<01:56,  3.35it/s]"
     ]
    },
    {
     "name": "stdout",
     "output_type": "stream",
     "text": [
      "Processing bird_id 6: Coal Tit (image 4)\n",
      "Processing bird_id 6: Coal Tit (image 5)\n"
     ]
    },
    {
     "name": "stderr",
     "output_type": "stream",
     "text": [
      "Processing images:   8%|▊         | 35/423 [00:10<01:58,  3.27it/s]"
     ]
    },
    {
     "name": "stdout",
     "output_type": "stream",
     "text": [
      "Processing bird_id 7: Common Blackbird (image 1)\n"
     ]
    },
    {
     "name": "stderr",
     "output_type": "stream",
     "text": [
      "Processing images:   9%|▊         | 36/423 [00:10<01:55,  3.34it/s]"
     ]
    },
    {
     "name": "stdout",
     "output_type": "stream",
     "text": [
      "Processing bird_id 7: Common Blackbird (image 2)\n"
     ]
    },
    {
     "name": "stderr",
     "output_type": "stream",
     "text": [
      "Processing images:   9%|▊         | 37/423 [00:10<01:52,  3.43it/s]"
     ]
    },
    {
     "name": "stdout",
     "output_type": "stream",
     "text": [
      "Processing bird_id 7: Common Blackbird (image 3)\n"
     ]
    },
    {
     "name": "stderr",
     "output_type": "stream",
     "text": [
      "Processing images:   9%|▉         | 39/423 [00:11<01:46,  3.62it/s]"
     ]
    },
    {
     "name": "stdout",
     "output_type": "stream",
     "text": [
      "Processing bird_id 7: Common Blackbird (image 4)\n",
      "Processing bird_id 7: Common Blackbird (image 5)\n"
     ]
    },
    {
     "name": "stderr",
     "output_type": "stream",
     "text": [
      "Processing images:   9%|▉         | 40/423 [00:11<01:52,  3.41it/s]"
     ]
    },
    {
     "name": "stdout",
     "output_type": "stream",
     "text": [
      "Processing bird_id 8: Common Chaffinch (image 1)\n"
     ]
    },
    {
     "name": "stderr",
     "output_type": "stream",
     "text": [
      "Processing images:  10%|▉         | 41/423 [00:11<01:55,  3.31it/s]"
     ]
    },
    {
     "name": "stdout",
     "output_type": "stream",
     "text": [
      "Processing bird_id 8: Common Chaffinch (image 2)\n"
     ]
    },
    {
     "name": "stderr",
     "output_type": "stream",
     "text": [
      "Processing images:  10%|▉         | 42/423 [00:12<01:46,  3.57it/s]"
     ]
    },
    {
     "name": "stdout",
     "output_type": "stream",
     "text": [
      "Processing bird_id 8: Common Chaffinch (image 3)\n"
     ]
    },
    {
     "name": "stderr",
     "output_type": "stream",
     "text": [
      "Processing images:  10%|█         | 44/423 [00:12<01:29,  4.26it/s]"
     ]
    },
    {
     "name": "stdout",
     "output_type": "stream",
     "text": [
      "Processing bird_id 8: Common Chaffinch (image 4)\n",
      "Processing bird_id 8: Common Chaffinch (image 5)\n"
     ]
    },
    {
     "name": "stderr",
     "output_type": "stream",
     "text": [
      "Processing images:  11%|█         | 45/423 [00:12<01:37,  3.86it/s]"
     ]
    },
    {
     "name": "stdout",
     "output_type": "stream",
     "text": [
      "Processing bird_id 9: Common Chiffchaff (image 1)\n"
     ]
    },
    {
     "name": "stderr",
     "output_type": "stream",
     "text": [
      "Processing images:  11%|█         | 46/423 [00:13<01:34,  3.98it/s]"
     ]
    },
    {
     "name": "stdout",
     "output_type": "stream",
     "text": [
      "Processing bird_id 9: Common Chiffchaff (image 2)\n"
     ]
    },
    {
     "name": "stderr",
     "output_type": "stream",
     "text": [
      "Processing images:  11%|█▏        | 48/423 [00:13<01:34,  3.97it/s]"
     ]
    },
    {
     "name": "stdout",
     "output_type": "stream",
     "text": [
      "Processing bird_id 9: Common Chiffchaff (image 3)\n",
      "Processing bird_id 9: Common Chiffchaff (image 4)\n"
     ]
    },
    {
     "name": "stderr",
     "output_type": "stream",
     "text": [
      "Processing images:  12%|█▏        | 50/423 [00:14<01:27,  4.26it/s]"
     ]
    },
    {
     "name": "stdout",
     "output_type": "stream",
     "text": [
      "Processing bird_id 9: Common Chiffchaff (image 5)\n",
      "Processing bird_id 10: Common Cuckoo (image 1)\n"
     ]
    },
    {
     "name": "stderr",
     "output_type": "stream",
     "text": [
      "Processing images:  12%|█▏        | 51/423 [00:14<01:28,  4.22it/s]"
     ]
    },
    {
     "name": "stdout",
     "output_type": "stream",
     "text": [
      "Processing bird_id 10: Common Cuckoo (image 2)\n"
     ]
    },
    {
     "name": "stderr",
     "output_type": "stream",
     "text": [
      "Processing images:  12%|█▏        | 52/423 [00:14<01:45,  3.50it/s]"
     ]
    },
    {
     "name": "stdout",
     "output_type": "stream",
     "text": [
      "Processing bird_id 10: Common Cuckoo (image 3)\n"
     ]
    },
    {
     "name": "stderr",
     "output_type": "stream",
     "text": [
      "Processing images:  13%|█▎        | 54/423 [00:15<01:37,  3.79it/s]"
     ]
    },
    {
     "name": "stdout",
     "output_type": "stream",
     "text": [
      "Processing bird_id 10: Common Cuckoo (image 4)\n"
     ]
    },
    {
     "name": "stderr",
     "output_type": "stream",
     "text": [
      "Processing images:  13%|█▎        | 55/423 [00:15<01:26,  4.27it/s]"
     ]
    },
    {
     "name": "stdout",
     "output_type": "stream",
     "text": [
      "Processing bird_id 10: Common Cuckoo (image 5)\n",
      "Processing bird_id 11: Common House Martin (image 1)\n"
     ]
    },
    {
     "name": "stderr",
     "output_type": "stream",
     "text": [
      "Processing images:  13%|█▎        | 56/423 [00:15<01:20,  4.53it/s]"
     ]
    },
    {
     "name": "stdout",
     "output_type": "stream",
     "text": [
      "Processing bird_id 11: Common House Martin (image 2)\n"
     ]
    },
    {
     "name": "stderr",
     "output_type": "stream",
     "text": [
      "Processing images:  13%|█▎        | 57/423 [00:15<01:25,  4.29it/s]"
     ]
    },
    {
     "name": "stdout",
     "output_type": "stream",
     "text": [
      "Processing bird_id 12: Common Linnet (image 1)\n"
     ]
    },
    {
     "name": "stderr",
     "output_type": "stream",
     "text": [
      "Processing images:  14%|█▎        | 58/423 [00:16<01:22,  4.43it/s]"
     ]
    },
    {
     "name": "stdout",
     "output_type": "stream",
     "text": [
      "Processing bird_id 12: Common Linnet (image 2)\n"
     ]
    },
    {
     "name": "stderr",
     "output_type": "stream",
     "text": [
      "Processing images:  14%|█▍        | 59/423 [00:16<01:23,  4.35it/s]"
     ]
    },
    {
     "name": "stdout",
     "output_type": "stream",
     "text": [
      "Processing bird_id 12: Common Linnet (image 3)\n"
     ]
    },
    {
     "name": "stderr",
     "output_type": "stream",
     "text": [
      "Processing images:  14%|█▍        | 60/423 [00:16<01:46,  3.42it/s]"
     ]
    },
    {
     "name": "stdout",
     "output_type": "stream",
     "text": [
      "Processing bird_id 12: Common Linnet (image 4)\n"
     ]
    },
    {
     "name": "stderr",
     "output_type": "stream",
     "text": [
      "Processing images:  15%|█▍        | 62/423 [00:17<01:43,  3.50it/s]"
     ]
    },
    {
     "name": "stdout",
     "output_type": "stream",
     "text": [
      "Processing bird_id 12: Common Linnet (image 5)\n",
      "Processing bird_id 13: Common Moorhen (image 1)\n"
     ]
    },
    {
     "name": "stderr",
     "output_type": "stream",
     "text": [
      "Processing images:  15%|█▍        | 63/423 [00:17<02:08,  2.81it/s]"
     ]
    },
    {
     "name": "stdout",
     "output_type": "stream",
     "text": [
      "Processing bird_id 13: Common Moorhen (image 2)\n"
     ]
    },
    {
     "name": "stderr",
     "output_type": "stream",
     "text": [
      "Processing images:  15%|█▌        | 64/423 [00:18<02:35,  2.31it/s]"
     ]
    },
    {
     "name": "stdout",
     "output_type": "stream",
     "text": [
      "Processing bird_id 13: Common Moorhen (image 3)\n"
     ]
    },
    {
     "name": "stderr",
     "output_type": "stream",
     "text": [
      "Processing images:  15%|█▌        | 65/423 [00:19<02:49,  2.12it/s]"
     ]
    },
    {
     "name": "stdout",
     "output_type": "stream",
     "text": [
      "Processing bird_id 13: Common Moorhen (image 4)\n"
     ]
    },
    {
     "name": "stderr",
     "output_type": "stream",
     "text": [
      "Processing images:  16%|█▌        | 66/423 [00:19<03:00,  1.97it/s]"
     ]
    },
    {
     "name": "stdout",
     "output_type": "stream",
     "text": [
      "Processing bird_id 13: Common Moorhen (image 5)\n"
     ]
    },
    {
     "name": "stderr",
     "output_type": "stream",
     "text": [
      "Processing images:  16%|█▌        | 67/423 [00:20<02:58,  1.99it/s]"
     ]
    },
    {
     "name": "stdout",
     "output_type": "stream",
     "text": [
      "Processing bird_id 14: Common Nightingale (image 1)\n"
     ]
    },
    {
     "name": "stderr",
     "output_type": "stream",
     "text": [
      "Processing images:  16%|█▋        | 69/423 [00:20<02:14,  2.63it/s]"
     ]
    },
    {
     "name": "stdout",
     "output_type": "stream",
     "text": [
      "Processing bird_id 14: Common Nightingale (image 2)\n",
      "Processing bird_id 14: Common Nightingale (image 3)\n"
     ]
    },
    {
     "name": "stderr",
     "output_type": "stream",
     "text": [
      "Processing images:  17%|█▋        | 71/423 [00:21<01:53,  3.11it/s]"
     ]
    },
    {
     "name": "stdout",
     "output_type": "stream",
     "text": [
      "Processing bird_id 14: Common Nightingale (image 4)\n"
     ]
    },
    {
     "name": "stderr",
     "output_type": "stream",
     "text": [
      "Processing images:  17%|█▋        | 72/423 [00:21<01:41,  3.47it/s]"
     ]
    },
    {
     "name": "stdout",
     "output_type": "stream",
     "text": [
      "Processing bird_id 14: Common Nightingale (image 5)\n",
      "Processing bird_id 15: Common Pheasant (image 1)\n"
     ]
    },
    {
     "name": "stderr",
     "output_type": "stream",
     "text": [
      "Processing images:  17%|█▋        | 73/423 [00:21<01:44,  3.35it/s]"
     ]
    },
    {
     "name": "stdout",
     "output_type": "stream",
     "text": [
      "Processing bird_id 15: Common Pheasant (image 2)\n"
     ]
    },
    {
     "name": "stderr",
     "output_type": "stream",
     "text": [
      "Processing images:  17%|█▋        | 74/423 [00:22<01:49,  3.19it/s]"
     ]
    },
    {
     "name": "stdout",
     "output_type": "stream",
     "text": [
      "Processing bird_id 15: Common Pheasant (image 3)\n"
     ]
    },
    {
     "name": "stderr",
     "output_type": "stream",
     "text": [
      "Processing images:  18%|█▊        | 75/423 [00:22<01:49,  3.18it/s]"
     ]
    },
    {
     "name": "stdout",
     "output_type": "stream",
     "text": [
      "Processing bird_id 15: Common Pheasant (image 4)\n"
     ]
    },
    {
     "name": "stderr",
     "output_type": "stream",
     "text": [
      "Processing images:  18%|█▊        | 76/423 [00:22<02:03,  2.80it/s]"
     ]
    },
    {
     "name": "stdout",
     "output_type": "stream",
     "text": [
      "Processing bird_id 15: Common Pheasant (image 5)\n"
     ]
    },
    {
     "name": "stderr",
     "output_type": "stream",
     "text": [
      "Processing images:  18%|█▊        | 77/423 [00:23<02:09,  2.67it/s]"
     ]
    },
    {
     "name": "stdout",
     "output_type": "stream",
     "text": [
      "Processing bird_id 16: Common Redpoll (image 1)\n"
     ]
    },
    {
     "name": "stderr",
     "output_type": "stream",
     "text": [
      "Processing images:  19%|█▊        | 79/423 [00:23<01:48,  3.18it/s]"
     ]
    },
    {
     "name": "stdout",
     "output_type": "stream",
     "text": [
      "Processing bird_id 16: Common Redpoll (image 2)\n"
     ]
    },
    {
     "name": "stderr",
     "output_type": "stream",
     "text": [
      "Processing images:  19%|█▉        | 80/423 [00:24<01:32,  3.72it/s]"
     ]
    },
    {
     "name": "stdout",
     "output_type": "stream",
     "text": [
      "Processing bird_id 16: Common Redpoll (image 3)\n",
      "Processing bird_id 16: Common Redpoll (image 4)\n"
     ]
    },
    {
     "name": "stderr",
     "output_type": "stream",
     "text": [
      "Processing images:  19%|█▉        | 82/423 [00:24<01:47,  3.17it/s]"
     ]
    },
    {
     "name": "stdout",
     "output_type": "stream",
     "text": [
      "Processing bird_id 16: Common Redpoll (image 5)\n",
      "Processing bird_id 17: Common Redshank (image 1)\n"
     ]
    },
    {
     "name": "stderr",
     "output_type": "stream",
     "text": [
      "Processing images:  20%|█▉        | 84/423 [00:25<01:25,  3.97it/s]"
     ]
    },
    {
     "name": "stdout",
     "output_type": "stream",
     "text": [
      "Processing bird_id 17: Common Redshank (image 2)\n",
      "Processing bird_id 17: Common Redshank (image 3)\n"
     ]
    },
    {
     "name": "stderr",
     "output_type": "stream",
     "text": [
      "Processing images:  20%|██        | 86/423 [00:25<01:16,  4.40it/s]"
     ]
    },
    {
     "name": "stdout",
     "output_type": "stream",
     "text": [
      "Processing bird_id 17: Common Redshank (image 4)\n"
     ]
    },
    {
     "name": "stderr",
     "output_type": "stream",
     "text": [
      "Processing images:  21%|██        | 87/423 [00:25<01:11,  4.69it/s]"
     ]
    },
    {
     "name": "stdout",
     "output_type": "stream",
     "text": [
      "Processing bird_id 17: Common Redshank (image 5)\n",
      "Processing bird_id 18: Common Redstart (image 1)\n"
     ]
    },
    {
     "name": "stderr",
     "output_type": "stream",
     "text": [
      "Processing images:  21%|██        | 88/423 [00:26<01:15,  4.45it/s]"
     ]
    },
    {
     "name": "stdout",
     "output_type": "stream",
     "text": [
      "Processing bird_id 18: Common Redstart (image 2)\n"
     ]
    },
    {
     "name": "stderr",
     "output_type": "stream",
     "text": [
      "Processing images:  21%|██▏       | 90/423 [00:26<01:07,  4.95it/s]"
     ]
    },
    {
     "name": "stdout",
     "output_type": "stream",
     "text": [
      "Processing bird_id 18: Common Redstart (image 3)\n",
      "Processing bird_id 18: Common Redstart (image 4)\n"
     ]
    },
    {
     "name": "stderr",
     "output_type": "stream",
     "text": [
      "Processing images:  22%|██▏       | 92/423 [00:26<00:58,  5.61it/s]"
     ]
    },
    {
     "name": "stdout",
     "output_type": "stream",
     "text": [
      "Processing bird_id 18: Common Redstart (image 5)\n",
      "Processing bird_id 19: Common Reed Bunting (image 1)\n"
     ]
    },
    {
     "name": "stderr",
     "output_type": "stream",
     "text": [
      "Processing images:  22%|██▏       | 94/423 [00:27<01:00,  5.42it/s]"
     ]
    },
    {
     "name": "stdout",
     "output_type": "stream",
     "text": [
      "Processing bird_id 19: Common Reed Bunting (image 2)\n"
     ]
    },
    {
     "name": "stderr",
     "output_type": "stream",
     "text": [
      "Processing images:  22%|██▏       | 95/423 [00:27<01:00,  5.42it/s]"
     ]
    },
    {
     "name": "stdout",
     "output_type": "stream",
     "text": [
      "Processing bird_id 19: Common Reed Bunting (image 3)\n"
     ]
    },
    {
     "name": "stderr",
     "output_type": "stream",
     "text": [
      "Processing images:  23%|██▎       | 96/423 [00:27<01:00,  5.39it/s]"
     ]
    },
    {
     "name": "stdout",
     "output_type": "stream",
     "text": [
      "Processing bird_id 19: Common Reed Bunting (image 4)\n"
     ]
    },
    {
     "name": "stderr",
     "output_type": "stream",
     "text": [
      "Processing images:  23%|██▎       | 97/423 [00:27<00:59,  5.45it/s]"
     ]
    },
    {
     "name": "stdout",
     "output_type": "stream",
     "text": [
      "Processing bird_id 19: Common Reed Bunting (image 5)\n",
      "Processing bird_id 20: Common Snipe (image 1)\n"
     ]
    },
    {
     "name": "stderr",
     "output_type": "stream",
     "text": [
      "Processing images:  23%|██▎       | 98/423 [00:28<02:00,  2.71it/s]"
     ]
    },
    {
     "name": "stdout",
     "output_type": "stream",
     "text": [
      "Processing bird_id 20: Common Snipe (image 2)\n"
     ]
    },
    {
     "name": "stderr",
     "output_type": "stream",
     "text": [
      "Processing images:  23%|██▎       | 99/423 [00:29<02:33,  2.11it/s]"
     ]
    },
    {
     "name": "stdout",
     "output_type": "stream",
     "text": [
      "Processing bird_id 20: Common Snipe (image 3)\n"
     ]
    },
    {
     "name": "stderr",
     "output_type": "stream",
     "text": [
      "Processing images:  24%|██▎       | 100/423 [00:30<03:25,  1.57it/s]"
     ]
    },
    {
     "name": "stdout",
     "output_type": "stream",
     "text": [
      "Processing bird_id 20: Common Snipe (image 4)\n"
     ]
    },
    {
     "name": "stderr",
     "output_type": "stream",
     "text": [
      "Processing images:  24%|██▍       | 101/423 [00:32<06:29,  1.21s/it]"
     ]
    },
    {
     "name": "stdout",
     "output_type": "stream",
     "text": [
      "Processing bird_id 20: Common Snipe (image 5)\n"
     ]
    },
    {
     "name": "stderr",
     "output_type": "stream",
     "text": [
      "Processing images:  24%|██▍       | 102/423 [00:33<06:12,  1.16s/it]"
     ]
    },
    {
     "name": "stdout",
     "output_type": "stream",
     "text": [
      "Processing bird_id 21: Common Starling (image 1)\n"
     ]
    },
    {
     "name": "stderr",
     "output_type": "stream",
     "text": [
      "Processing images:  24%|██▍       | 103/423 [00:35<06:14,  1.17s/it]"
     ]
    },
    {
     "name": "stdout",
     "output_type": "stream",
     "text": [
      "Processing bird_id 21: Common Starling (image 2)\n"
     ]
    },
    {
     "name": "stderr",
     "output_type": "stream",
     "text": [
      "Processing images:  25%|██▍       | 104/423 [00:36<06:24,  1.21s/it]"
     ]
    },
    {
     "name": "stdout",
     "output_type": "stream",
     "text": [
      "Processing bird_id 21: Common Starling (image 3)\n"
     ]
    },
    {
     "name": "stderr",
     "output_type": "stream",
     "text": [
      "Processing images:  25%|██▍       | 105/423 [00:37<07:09,  1.35s/it]"
     ]
    },
    {
     "name": "stdout",
     "output_type": "stream",
     "text": [
      "Processing bird_id 21: Common Starling (image 4)\n"
     ]
    },
    {
     "name": "stderr",
     "output_type": "stream",
     "text": [
      "Processing images:  25%|██▌       | 106/423 [00:38<06:35,  1.25s/it]"
     ]
    },
    {
     "name": "stdout",
     "output_type": "stream",
     "text": [
      "Processing bird_id 21: Common Starling (image 5)\n"
     ]
    },
    {
     "name": "stderr",
     "output_type": "stream",
     "text": [
      "Processing images:  25%|██▌       | 107/423 [00:40<06:10,  1.17s/it]"
     ]
    },
    {
     "name": "stdout",
     "output_type": "stream",
     "text": [
      "Processing bird_id 22: Common Swift (image 1)\n"
     ]
    },
    {
     "name": "stderr",
     "output_type": "stream",
     "text": [
      "Processing images:  26%|██▌       | 108/423 [00:40<05:39,  1.08s/it]"
     ]
    },
    {
     "name": "stdout",
     "output_type": "stream",
     "text": [
      "Processing bird_id 22: Common Swift (image 2)\n"
     ]
    },
    {
     "name": "stderr",
     "output_type": "stream",
     "text": [
      "Processing images:  26%|██▌       | 109/423 [00:42<05:51,  1.12s/it]"
     ]
    },
    {
     "name": "stdout",
     "output_type": "stream",
     "text": [
      "Processing bird_id 22: Common Swift (image 3)\n"
     ]
    },
    {
     "name": "stderr",
     "output_type": "stream",
     "text": [
      "Processing images:  26%|██▌       | 110/423 [00:43<05:44,  1.10s/it]"
     ]
    },
    {
     "name": "stdout",
     "output_type": "stream",
     "text": [
      "Processing bird_id 22: Common Swift (image 4)\n"
     ]
    },
    {
     "name": "stderr",
     "output_type": "stream",
     "text": [
      "Processing images:  26%|██▌       | 111/423 [00:44<05:56,  1.14s/it]"
     ]
    },
    {
     "name": "stdout",
     "output_type": "stream",
     "text": [
      "Processing bird_id 22: Common Swift (image 5)\n"
     ]
    },
    {
     "name": "stderr",
     "output_type": "stream",
     "text": [
      "Processing images:  26%|██▋       | 112/423 [00:44<04:59,  1.04it/s]"
     ]
    },
    {
     "name": "stdout",
     "output_type": "stream",
     "text": [
      "Processing bird_id 23: Common Whitethroat (image 1)\n"
     ]
    },
    {
     "name": "stderr",
     "output_type": "stream",
     "text": [
      "Processing images:  27%|██▋       | 113/423 [00:46<05:17,  1.03s/it]"
     ]
    },
    {
     "name": "stdout",
     "output_type": "stream",
     "text": [
      "Processing bird_id 23: Common Whitethroat (image 2)\n"
     ]
    },
    {
     "name": "stderr",
     "output_type": "stream",
     "text": [
      "Processing images:  27%|██▋       | 114/423 [00:46<05:03,  1.02it/s]"
     ]
    },
    {
     "name": "stdout",
     "output_type": "stream",
     "text": [
      "Processing bird_id 23: Common Whitethroat (image 3)\n"
     ]
    },
    {
     "name": "stderr",
     "output_type": "stream",
     "text": [
      "Processing images:  27%|██▋       | 115/423 [00:47<04:34,  1.12it/s]"
     ]
    },
    {
     "name": "stdout",
     "output_type": "stream",
     "text": [
      "Processing bird_id 23: Common Whitethroat (image 4)\n"
     ]
    },
    {
     "name": "stderr",
     "output_type": "stream",
     "text": [
      "Processing images:  27%|██▋       | 116/423 [00:48<04:27,  1.15it/s]"
     ]
    },
    {
     "name": "stdout",
     "output_type": "stream",
     "text": [
      "Processing bird_id 23: Common Whitethroat (image 5)\n"
     ]
    },
    {
     "name": "stderr",
     "output_type": "stream",
     "text": [
      "Processing images:  28%|██▊       | 117/423 [00:49<04:10,  1.22it/s]"
     ]
    },
    {
     "name": "stdout",
     "output_type": "stream",
     "text": [
      "Processing bird_id 24: Common Wood Pigeon (image 1)\n"
     ]
    },
    {
     "name": "stderr",
     "output_type": "stream",
     "text": [
      "Processing images:  28%|██▊       | 118/423 [00:50<05:02,  1.01it/s]"
     ]
    },
    {
     "name": "stdout",
     "output_type": "stream",
     "text": [
      "Processing bird_id 24: Common Wood Pigeon (image 2)\n"
     ]
    },
    {
     "name": "stderr",
     "output_type": "stream",
     "text": [
      "Processing images:  28%|██▊       | 119/423 [00:52<05:45,  1.14s/it]"
     ]
    },
    {
     "name": "stdout",
     "output_type": "stream",
     "text": [
      "Processing bird_id 24: Common Wood Pigeon (image 3)\n"
     ]
    },
    {
     "name": "stderr",
     "output_type": "stream",
     "text": [
      "Processing images:  28%|██▊       | 120/423 [00:52<04:52,  1.04it/s]"
     ]
    },
    {
     "name": "stdout",
     "output_type": "stream",
     "text": [
      "Processing bird_id 24: Common Wood Pigeon (image 4)\n"
     ]
    },
    {
     "name": "stderr",
     "output_type": "stream",
     "text": [
      "Processing images:  29%|██▊       | 121/423 [00:53<05:04,  1.01s/it]"
     ]
    },
    {
     "name": "stdout",
     "output_type": "stream",
     "text": [
      "Processing bird_id 24: Common Wood Pigeon (image 5)\n"
     ]
    },
    {
     "name": "stderr",
     "output_type": "stream",
     "text": [
      "Processing images:  29%|██▉       | 122/423 [00:55<06:03,  1.21s/it]"
     ]
    },
    {
     "name": "stdout",
     "output_type": "stream",
     "text": [
      "Processing bird_id 25: Corn Bunting (image 1)\n"
     ]
    },
    {
     "name": "stderr",
     "output_type": "stream",
     "text": [
      "Processing images:  29%|██▉       | 123/423 [00:56<05:21,  1.07s/it]"
     ]
    },
    {
     "name": "stdout",
     "output_type": "stream",
     "text": [
      "Processing bird_id 25: Corn Bunting (image 2)\n"
     ]
    },
    {
     "name": "stderr",
     "output_type": "stream",
     "text": [
      "Processing images:  29%|██▉       | 124/423 [00:56<04:37,  1.08it/s]"
     ]
    },
    {
     "name": "stdout",
     "output_type": "stream",
     "text": [
      "Processing bird_id 25: Corn Bunting (image 3)\n"
     ]
    },
    {
     "name": "stderr",
     "output_type": "stream",
     "text": [
      "Processing images:  30%|██▉       | 125/423 [00:57<04:13,  1.18it/s]"
     ]
    },
    {
     "name": "stdout",
     "output_type": "stream",
     "text": [
      "Processing bird_id 25: Corn Bunting (image 4)\n"
     ]
    },
    {
     "name": "stderr",
     "output_type": "stream",
     "text": [
      "Processing images:  30%|██▉       | 126/423 [00:58<04:11,  1.18it/s]"
     ]
    },
    {
     "name": "stdout",
     "output_type": "stream",
     "text": [
      "Processing bird_id 25: Corn Bunting (image 5)\n"
     ]
    },
    {
     "name": "stderr",
     "output_type": "stream",
     "text": [
      "Processing images:  30%|███       | 127/423 [00:59<05:12,  1.05s/it]"
     ]
    },
    {
     "name": "stdout",
     "output_type": "stream",
     "text": [
      "Processing bird_id 26: Dunlin (image 1)\n"
     ]
    },
    {
     "name": "stderr",
     "output_type": "stream",
     "text": [
      "Processing images:  30%|███       | 128/423 [01:00<04:26,  1.11it/s]"
     ]
    },
    {
     "name": "stdout",
     "output_type": "stream",
     "text": [
      "Processing bird_id 26: Dunlin (image 2)\n"
     ]
    },
    {
     "name": "stderr",
     "output_type": "stream",
     "text": [
      "Processing images:  30%|███       | 129/423 [01:00<03:55,  1.25it/s]"
     ]
    },
    {
     "name": "stdout",
     "output_type": "stream",
     "text": [
      "Processing bird_id 26: Dunlin (image 3)\n"
     ]
    },
    {
     "name": "stderr",
     "output_type": "stream",
     "text": [
      "Processing images:  31%|███       | 130/423 [01:01<03:46,  1.30it/s]"
     ]
    },
    {
     "name": "stdout",
     "output_type": "stream",
     "text": [
      "Processing bird_id 26: Dunlin (image 4)\n"
     ]
    },
    {
     "name": "stderr",
     "output_type": "stream",
     "text": [
      "Processing images:  31%|███       | 131/423 [01:02<03:52,  1.25it/s]"
     ]
    },
    {
     "name": "stdout",
     "output_type": "stream",
     "text": [
      "Processing bird_id 26: Dunlin (image 5)\n"
     ]
    },
    {
     "name": "stderr",
     "output_type": "stream",
     "text": [
      "Processing images:  31%|███       | 132/423 [01:03<03:52,  1.25it/s]"
     ]
    },
    {
     "name": "stdout",
     "output_type": "stream",
     "text": [
      "Processing bird_id 27: Dunnock (image 1)\n"
     ]
    },
    {
     "name": "stderr",
     "output_type": "stream",
     "text": [
      "Processing images:  31%|███▏      | 133/423 [01:04<04:12,  1.15it/s]"
     ]
    },
    {
     "name": "stdout",
     "output_type": "stream",
     "text": [
      "Processing bird_id 27: Dunnock (image 2)\n"
     ]
    },
    {
     "name": "stderr",
     "output_type": "stream",
     "text": [
      "Processing images:  32%|███▏      | 134/423 [01:05<04:13,  1.14it/s]"
     ]
    },
    {
     "name": "stdout",
     "output_type": "stream",
     "text": [
      "Processing bird_id 27: Dunnock (image 3)\n"
     ]
    },
    {
     "name": "stderr",
     "output_type": "stream",
     "text": [
      "Processing images:  32%|███▏      | 135/423 [01:06<04:09,  1.15it/s]"
     ]
    },
    {
     "name": "stdout",
     "output_type": "stream",
     "text": [
      "Processing bird_id 27: Dunnock (image 4)\n"
     ]
    },
    {
     "name": "stderr",
     "output_type": "stream",
     "text": [
      "Processing images:  32%|███▏      | 136/423 [01:07<05:17,  1.11s/it]"
     ]
    },
    {
     "name": "stdout",
     "output_type": "stream",
     "text": [
      "Processing bird_id 27: Dunnock (image 5)\n"
     ]
    },
    {
     "name": "stderr",
     "output_type": "stream",
     "text": [
      "Processing images:  32%|███▏      | 137/423 [01:08<04:35,  1.04it/s]"
     ]
    },
    {
     "name": "stdout",
     "output_type": "stream",
     "text": [
      "Processing bird_id 28: Eurasian Blackcap (image 1)\n"
     ]
    },
    {
     "name": "stderr",
     "output_type": "stream",
     "text": [
      "Processing images:  33%|███▎      | 138/423 [01:08<04:08,  1.15it/s]"
     ]
    },
    {
     "name": "stdout",
     "output_type": "stream",
     "text": [
      "Processing bird_id 28: Eurasian Blackcap (image 2)\n"
     ]
    },
    {
     "name": "stderr",
     "output_type": "stream",
     "text": [
      "Processing images:  33%|███▎      | 139/423 [01:09<03:53,  1.22it/s]"
     ]
    },
    {
     "name": "stdout",
     "output_type": "stream",
     "text": [
      "Processing bird_id 28: Eurasian Blackcap (image 3)\n"
     ]
    },
    {
     "name": "stderr",
     "output_type": "stream",
     "text": [
      "Processing images:  33%|███▎      | 140/423 [01:10<04:14,  1.11it/s]"
     ]
    },
    {
     "name": "stdout",
     "output_type": "stream",
     "text": [
      "Processing bird_id 28: Eurasian Blackcap (image 4)\n"
     ]
    },
    {
     "name": "stderr",
     "output_type": "stream",
     "text": [
      "Processing images:  33%|███▎      | 141/423 [01:11<04:06,  1.14it/s]"
     ]
    },
    {
     "name": "stdout",
     "output_type": "stream",
     "text": [
      "Processing bird_id 28: Eurasian Blackcap (image 5)\n"
     ]
    },
    {
     "name": "stderr",
     "output_type": "stream",
     "text": [
      "Processing images:  34%|███▎      | 142/423 [01:12<04:25,  1.06it/s]"
     ]
    },
    {
     "name": "stdout",
     "output_type": "stream",
     "text": [
      "Processing bird_id 29: Eurasian Blue Tit (image 1)\n"
     ]
    },
    {
     "name": "stderr",
     "output_type": "stream",
     "text": [
      "Processing images:  34%|███▍      | 143/423 [01:13<04:48,  1.03s/it]"
     ]
    },
    {
     "name": "stdout",
     "output_type": "stream",
     "text": [
      "Processing bird_id 29: Eurasian Blue Tit (image 2)\n"
     ]
    },
    {
     "name": "stderr",
     "output_type": "stream",
     "text": [
      "Processing images:  34%|███▍      | 144/423 [01:14<04:20,  1.07it/s]"
     ]
    },
    {
     "name": "stdout",
     "output_type": "stream",
     "text": [
      "Processing bird_id 29: Eurasian Blue Tit (image 3)\n"
     ]
    },
    {
     "name": "stderr",
     "output_type": "stream",
     "text": [
      "Processing images:  34%|███▍      | 145/423 [01:15<04:56,  1.07s/it]"
     ]
    },
    {
     "name": "stdout",
     "output_type": "stream",
     "text": [
      "Processing bird_id 29: Eurasian Blue Tit (image 4)\n"
     ]
    },
    {
     "name": "stderr",
     "output_type": "stream",
     "text": [
      "Processing images:  35%|███▍      | 146/423 [01:16<04:20,  1.06it/s]"
     ]
    },
    {
     "name": "stdout",
     "output_type": "stream",
     "text": [
      "Processing bird_id 29: Eurasian Blue Tit (image 5)\n"
     ]
    },
    {
     "name": "stderr",
     "output_type": "stream",
     "text": [
      "Processing images:  35%|███▍      | 147/423 [01:17<03:34,  1.29it/s]"
     ]
    },
    {
     "name": "stdout",
     "output_type": "stream",
     "text": [
      "Processing bird_id 30: Eurasian Bullfinch (image 1)\n"
     ]
    },
    {
     "name": "stderr",
     "output_type": "stream",
     "text": [
      "Processing images:  35%|███▍      | 148/423 [01:17<03:28,  1.32it/s]"
     ]
    },
    {
     "name": "stdout",
     "output_type": "stream",
     "text": [
      "Processing bird_id 30: Eurasian Bullfinch (image 2)\n"
     ]
    },
    {
     "name": "stderr",
     "output_type": "stream",
     "text": [
      "Processing images:  35%|███▌      | 149/423 [01:18<03:48,  1.20it/s]"
     ]
    },
    {
     "name": "stdout",
     "output_type": "stream",
     "text": [
      "Processing bird_id 30: Eurasian Bullfinch (image 3)\n"
     ]
    },
    {
     "name": "stderr",
     "output_type": "stream",
     "text": [
      "Processing images:  35%|███▌      | 150/423 [01:19<04:01,  1.13it/s]"
     ]
    },
    {
     "name": "stdout",
     "output_type": "stream",
     "text": [
      "Processing bird_id 30: Eurasian Bullfinch (image 4)\n"
     ]
    },
    {
     "name": "stderr",
     "output_type": "stream",
     "text": [
      "Processing images:  36%|███▌      | 151/423 [01:20<03:52,  1.17it/s]"
     ]
    },
    {
     "name": "stdout",
     "output_type": "stream",
     "text": [
      "Processing bird_id 30: Eurasian Bullfinch (image 5)\n"
     ]
    },
    {
     "name": "stderr",
     "output_type": "stream",
     "text": [
      "Processing images:  36%|███▌      | 152/423 [01:21<04:06,  1.10it/s]"
     ]
    },
    {
     "name": "stdout",
     "output_type": "stream",
     "text": [
      "Processing bird_id 31: Eurasian Collared Dove (image 1)\n"
     ]
    },
    {
     "name": "stderr",
     "output_type": "stream",
     "text": [
      "Processing images:  36%|███▌      | 153/423 [01:22<04:31,  1.01s/it]"
     ]
    },
    {
     "name": "stdout",
     "output_type": "stream",
     "text": [
      "Processing bird_id 31: Eurasian Collared Dove (image 2)\n"
     ]
    },
    {
     "name": "stderr",
     "output_type": "stream",
     "text": [
      "Processing images:  36%|███▋      | 154/423 [01:24<05:05,  1.13s/it]"
     ]
    },
    {
     "name": "stdout",
     "output_type": "stream",
     "text": [
      "Processing bird_id 31: Eurasian Collared Dove (image 3)\n"
     ]
    },
    {
     "name": "stderr",
     "output_type": "stream",
     "text": [
      "Processing images:  37%|███▋      | 155/423 [01:25<04:52,  1.09s/it]"
     ]
    },
    {
     "name": "stdout",
     "output_type": "stream",
     "text": [
      "Processing bird_id 31: Eurasian Collared Dove (image 4)\n"
     ]
    },
    {
     "name": "stderr",
     "output_type": "stream",
     "text": [
      "Processing images:  37%|███▋      | 156/423 [01:25<04:12,  1.06it/s]"
     ]
    },
    {
     "name": "stdout",
     "output_type": "stream",
     "text": [
      "Processing bird_id 31: Eurasian Collared Dove (image 5)\n"
     ]
    },
    {
     "name": "stderr",
     "output_type": "stream",
     "text": [
      "Processing images:  37%|███▋      | 157/423 [01:26<03:42,  1.19it/s]"
     ]
    },
    {
     "name": "stdout",
     "output_type": "stream",
     "text": [
      "Processing bird_id 32: Eurasian Coot (image 1)\n"
     ]
    },
    {
     "name": "stderr",
     "output_type": "stream",
     "text": [
      "Processing images:  37%|███▋      | 158/423 [01:27<03:25,  1.29it/s]"
     ]
    },
    {
     "name": "stdout",
     "output_type": "stream",
     "text": [
      "Processing bird_id 32: Eurasian Coot (image 2)\n"
     ]
    },
    {
     "name": "stderr",
     "output_type": "stream",
     "text": [
      "Processing images:  38%|███▊      | 159/423 [01:27<03:28,  1.27it/s]"
     ]
    },
    {
     "name": "stdout",
     "output_type": "stream",
     "text": [
      "Processing bird_id 32: Eurasian Coot (image 3)\n"
     ]
    },
    {
     "name": "stderr",
     "output_type": "stream",
     "text": [
      "Processing images:  38%|███▊      | 160/423 [01:28<03:42,  1.18it/s]"
     ]
    },
    {
     "name": "stdout",
     "output_type": "stream",
     "text": [
      "Processing bird_id 32: Eurasian Coot (image 4)\n"
     ]
    },
    {
     "name": "stderr",
     "output_type": "stream",
     "text": [
      "Processing images:  38%|███▊      | 161/423 [01:29<03:34,  1.22it/s]"
     ]
    },
    {
     "name": "stdout",
     "output_type": "stream",
     "text": [
      "Processing bird_id 32: Eurasian Coot (image 5)\n"
     ]
    },
    {
     "name": "stderr",
     "output_type": "stream",
     "text": [
      "Processing images:  38%|███▊      | 162/423 [01:31<04:50,  1.11s/it]"
     ]
    },
    {
     "name": "stdout",
     "output_type": "stream",
     "text": [
      "Processing bird_id 33: Eurasian Golden Oriole (image 1)\n"
     ]
    },
    {
     "name": "stderr",
     "output_type": "stream",
     "text": [
      "Processing images:  39%|███▊      | 163/423 [01:33<05:41,  1.31s/it]"
     ]
    },
    {
     "name": "stdout",
     "output_type": "stream",
     "text": [
      "Processing bird_id 33: Eurasian Golden Oriole (image 2)\n"
     ]
    },
    {
     "name": "stderr",
     "output_type": "stream",
     "text": [
      "Processing images:  39%|███▉      | 165/423 [01:34<03:35,  1.20it/s]"
     ]
    },
    {
     "name": "stdout",
     "output_type": "stream",
     "text": [
      "Processing bird_id 33: Eurasian Golden Oriole (image 3)\n"
     ]
    },
    {
     "name": "stderr",
     "output_type": "stream",
     "text": [
      "Processing images:  39%|███▉      | 166/423 [01:34<02:45,  1.56it/s]"
     ]
    },
    {
     "name": "stdout",
     "output_type": "stream",
     "text": [
      "Processing bird_id 33: Eurasian Golden Oriole (image 4)\n"
     ]
    },
    {
     "name": "stderr",
     "output_type": "stream",
     "text": [
      "Processing images:  39%|███▉      | 167/423 [01:34<02:03,  2.07it/s]"
     ]
    },
    {
     "name": "stdout",
     "output_type": "stream",
     "text": [
      "Processing bird_id 33: Eurasian Golden Oriole (image 5)\n",
      "Processing bird_id 34: Eurasian Jay (image 1)\n"
     ]
    },
    {
     "name": "stderr",
     "output_type": "stream",
     "text": [
      "Processing images:  40%|███▉      | 168/423 [01:34<01:36,  2.63it/s]"
     ]
    },
    {
     "name": "stdout",
     "output_type": "stream",
     "text": [
      "Processing bird_id 34: Eurasian Jay (image 2)\n"
     ]
    },
    {
     "name": "stderr",
     "output_type": "stream",
     "text": [
      "Processing images:  40%|███▉      | 169/423 [01:34<01:23,  3.03it/s]"
     ]
    },
    {
     "name": "stdout",
     "output_type": "stream",
     "text": [
      "Processing bird_id 34: Eurasian Jay (image 3)\n"
     ]
    },
    {
     "name": "stderr",
     "output_type": "stream",
     "text": [
      "Processing images:  40%|████      | 170/423 [01:35<01:23,  3.03it/s]"
     ]
    },
    {
     "name": "stdout",
     "output_type": "stream",
     "text": [
      "Processing bird_id 34: Eurasian Jay (image 4)\n"
     ]
    },
    {
     "name": "stderr",
     "output_type": "stream",
     "text": [
      "Processing images:  40%|████      | 171/423 [01:35<01:16,  3.29it/s]"
     ]
    },
    {
     "name": "stdout",
     "output_type": "stream",
     "text": [
      "Processing bird_id 34: Eurasian Jay (image 5)\n"
     ]
    },
    {
     "name": "stderr",
     "output_type": "stream",
     "text": [
      "Processing images:  41%|████      | 172/423 [01:35<01:09,  3.60it/s]"
     ]
    },
    {
     "name": "stdout",
     "output_type": "stream",
     "text": [
      "Processing bird_id 35: Eurasian Magpie (image 1)\n"
     ]
    },
    {
     "name": "stderr",
     "output_type": "stream",
     "text": [
      "Processing images:  41%|████      | 173/423 [01:35<01:26,  2.88it/s]"
     ]
    },
    {
     "name": "stdout",
     "output_type": "stream",
     "text": [
      "Processing bird_id 35: Eurasian Magpie (image 2)\n"
     ]
    },
    {
     "name": "stderr",
     "output_type": "stream",
     "text": [
      "Processing images:  41%|████      | 174/423 [01:36<01:32,  2.70it/s]"
     ]
    },
    {
     "name": "stdout",
     "output_type": "stream",
     "text": [
      "Processing bird_id 35: Eurasian Magpie (image 3)\n"
     ]
    },
    {
     "name": "stderr",
     "output_type": "stream",
     "text": [
      "Processing images:  41%|████▏     | 175/423 [01:36<01:41,  2.44it/s]"
     ]
    },
    {
     "name": "stdout",
     "output_type": "stream",
     "text": [
      "Processing bird_id 35: Eurasian Magpie (image 4)\n"
     ]
    },
    {
     "name": "stderr",
     "output_type": "stream",
     "text": [
      "Processing images:  42%|████▏     | 176/423 [01:37<02:12,  1.86it/s]"
     ]
    },
    {
     "name": "stdout",
     "output_type": "stream",
     "text": [
      "Processing bird_id 35: Eurasian Magpie (image 5)\n"
     ]
    },
    {
     "name": "stderr",
     "output_type": "stream",
     "text": [
      "Processing images:  42%|████▏     | 178/423 [01:38<01:45,  2.31it/s]"
     ]
    },
    {
     "name": "stdout",
     "output_type": "stream",
     "text": [
      "Processing bird_id 36: Eurasian Nuthatch (image 1)\n",
      "Processing bird_id 36: Eurasian Nuthatch (image 2)\n"
     ]
    },
    {
     "name": "stderr",
     "output_type": "stream",
     "text": [
      "Processing images:  42%|████▏     | 179/423 [01:38<01:37,  2.50it/s]"
     ]
    },
    {
     "name": "stdout",
     "output_type": "stream",
     "text": [
      "Processing bird_id 36: Eurasian Nuthatch (image 3)\n"
     ]
    },
    {
     "name": "stderr",
     "output_type": "stream",
     "text": [
      "Processing images:  43%|████▎     | 180/423 [01:39<01:29,  2.70it/s]"
     ]
    },
    {
     "name": "stdout",
     "output_type": "stream",
     "text": [
      "Processing bird_id 37: Eurasian Oystercatcher (image 1)\n"
     ]
    },
    {
     "name": "stderr",
     "output_type": "stream",
     "text": [
      "Processing images:  43%|████▎     | 182/423 [01:39<01:20,  3.01it/s]"
     ]
    },
    {
     "name": "stdout",
     "output_type": "stream",
     "text": [
      "Processing bird_id 37: Eurasian Oystercatcher (image 2)\n",
      "Processing bird_id 37: Eurasian Oystercatcher (image 3)\n"
     ]
    },
    {
     "name": "stderr",
     "output_type": "stream",
     "text": [
      "Processing images:  43%|████▎     | 184/423 [01:40<01:01,  3.91it/s]"
     ]
    },
    {
     "name": "stdout",
     "output_type": "stream",
     "text": [
      "Processing bird_id 37: Eurasian Oystercatcher (image 4)\n",
      "Processing bird_id 37: Eurasian Oystercatcher (image 5)\n"
     ]
    },
    {
     "name": "stderr",
     "output_type": "stream",
     "text": [
      "Processing images:  44%|████▍     | 186/423 [01:40<00:51,  4.57it/s]"
     ]
    },
    {
     "name": "stdout",
     "output_type": "stream",
     "text": [
      "Processing bird_id 38: Eurasian Reed Warbler (image 1)\n",
      "Processing bird_id 38: Eurasian Reed Warbler (image 2)\n"
     ]
    },
    {
     "name": "stderr",
     "output_type": "stream",
     "text": [
      "Processing images:  44%|████▍     | 188/423 [01:40<00:51,  4.60it/s]"
     ]
    },
    {
     "name": "stdout",
     "output_type": "stream",
     "text": [
      "Processing bird_id 38: Eurasian Reed Warbler (image 3)\n",
      "Processing bird_id 38: Eurasian Reed Warbler (image 4)\n"
     ]
    },
    {
     "name": "stderr",
     "output_type": "stream",
     "text": [
      "Processing images:  45%|████▍     | 190/423 [01:41<00:44,  5.23it/s]"
     ]
    },
    {
     "name": "stdout",
     "output_type": "stream",
     "text": [
      "Processing bird_id 38: Eurasian Reed Warbler (image 5)\n",
      "Processing bird_id 39: Eurasian Skylark (image 1)\n"
     ]
    },
    {
     "name": "stderr",
     "output_type": "stream",
     "text": [
      "Processing images:  45%|████▌     | 191/423 [01:41<00:50,  4.57it/s]"
     ]
    },
    {
     "name": "stdout",
     "output_type": "stream",
     "text": [
      "Processing bird_id 39: Eurasian Skylark (image 2)\n"
     ]
    },
    {
     "name": "stderr",
     "output_type": "stream",
     "text": [
      "Processing images:  46%|████▌     | 193/423 [01:41<00:47,  4.81it/s]"
     ]
    },
    {
     "name": "stdout",
     "output_type": "stream",
     "text": [
      "Processing bird_id 39: Eurasian Skylark (image 3)\n"
     ]
    },
    {
     "name": "stderr",
     "output_type": "stream",
     "text": [
      "Processing images:  46%|████▌     | 194/423 [01:42<00:46,  4.88it/s]"
     ]
    },
    {
     "name": "stdout",
     "output_type": "stream",
     "text": [
      "Processing bird_id 39: Eurasian Skylark (image 4)\n",
      "Processing bird_id 39: Eurasian Skylark (image 5)\n"
     ]
    },
    {
     "name": "stderr",
     "output_type": "stream",
     "text": [
      "Processing images:  46%|████▌     | 195/423 [01:42<00:46,  4.90it/s]"
     ]
    },
    {
     "name": "stdout",
     "output_type": "stream",
     "text": [
      "Processing bird_id 40: Eurasian Tree Sparrow (image 1)\n"
     ]
    },
    {
     "name": "stderr",
     "output_type": "stream",
     "text": [
      "Processing images:  46%|████▋     | 196/423 [01:42<00:50,  4.52it/s]"
     ]
    },
    {
     "name": "stdout",
     "output_type": "stream",
     "text": [
      "Processing bird_id 40: Eurasian Tree Sparrow (image 2)\n"
     ]
    },
    {
     "name": "stderr",
     "output_type": "stream",
     "text": [
      "Processing images:  47%|████▋     | 197/423 [01:42<00:52,  4.33it/s]"
     ]
    },
    {
     "name": "stdout",
     "output_type": "stream",
     "text": [
      "Processing bird_id 40: Eurasian Tree Sparrow (image 3)\n"
     ]
    },
    {
     "name": "stderr",
     "output_type": "stream",
     "text": [
      "Processing images:  47%|████▋     | 198/423 [01:43<00:56,  3.96it/s]"
     ]
    },
    {
     "name": "stdout",
     "output_type": "stream",
     "text": [
      "Processing bird_id 40: Eurasian Tree Sparrow (image 4)\n"
     ]
    },
    {
     "name": "stderr",
     "output_type": "stream",
     "text": [
      "Processing images:  47%|████▋     | 199/423 [01:43<00:56,  3.93it/s]"
     ]
    },
    {
     "name": "stdout",
     "output_type": "stream",
     "text": [
      "Processing bird_id 40: Eurasian Tree Sparrow (image 5)\n"
     ]
    },
    {
     "name": "stderr",
     "output_type": "stream",
     "text": [
      "Processing images:  47%|████▋     | 200/423 [01:44<01:19,  2.81it/s]"
     ]
    },
    {
     "name": "stdout",
     "output_type": "stream",
     "text": [
      "Processing bird_id 41: Eurasian Treecreeper (image 1)\n"
     ]
    },
    {
     "name": "stderr",
     "output_type": "stream",
     "text": [
      "Processing images:  48%|████▊     | 201/423 [01:44<01:18,  2.84it/s]"
     ]
    },
    {
     "name": "stdout",
     "output_type": "stream",
     "text": [
      "Processing bird_id 41: Eurasian Treecreeper (image 2)\n"
     ]
    },
    {
     "name": "stderr",
     "output_type": "stream",
     "text": [
      "Processing images:  48%|████▊     | 203/423 [01:44<01:10,  3.12it/s]"
     ]
    },
    {
     "name": "stdout",
     "output_type": "stream",
     "text": [
      "Processing bird_id 41: Eurasian Treecreeper (image 3)\n",
      "Processing bird_id 41: Eurasian Treecreeper (image 4)\n"
     ]
    },
    {
     "name": "stderr",
     "output_type": "stream",
     "text": [
      "Processing images:  48%|████▊     | 204/423 [01:45<01:03,  3.44it/s]"
     ]
    },
    {
     "name": "stdout",
     "output_type": "stream",
     "text": [
      "Processing bird_id 41: Eurasian Treecreeper (image 5)\n"
     ]
    },
    {
     "name": "stderr",
     "output_type": "stream",
     "text": [
      "Processing images:  48%|████▊     | 205/423 [01:45<01:12,  3.02it/s]"
     ]
    },
    {
     "name": "stdout",
     "output_type": "stream",
     "text": [
      "Processing bird_id 42: Eurasian Wren (image 1)\n"
     ]
    },
    {
     "name": "stderr",
     "output_type": "stream",
     "text": [
      "Processing images:  49%|████▊     | 206/423 [01:46<01:22,  2.63it/s]"
     ]
    },
    {
     "name": "stdout",
     "output_type": "stream",
     "text": [
      "Processing bird_id 42: Eurasian Wren (image 2)\n"
     ]
    },
    {
     "name": "stderr",
     "output_type": "stream",
     "text": [
      "Processing images:  49%|████▉     | 207/423 [01:46<01:22,  2.60it/s]"
     ]
    },
    {
     "name": "stdout",
     "output_type": "stream",
     "text": [
      "Processing bird_id 42: Eurasian Wren (image 3)\n"
     ]
    },
    {
     "name": "stderr",
     "output_type": "stream",
     "text": [
      "Processing images:  49%|████▉     | 208/423 [01:46<01:25,  2.51it/s]"
     ]
    },
    {
     "name": "stdout",
     "output_type": "stream",
     "text": [
      "Processing bird_id 42: Eurasian Wren (image 4)\n"
     ]
    },
    {
     "name": "stderr",
     "output_type": "stream",
     "text": [
      "Processing images:  49%|████▉     | 209/423 [01:47<01:31,  2.34it/s]"
     ]
    },
    {
     "name": "stdout",
     "output_type": "stream",
     "text": [
      "Processing bird_id 42: Eurasian Wren (image 5)\n"
     ]
    },
    {
     "name": "stderr",
     "output_type": "stream",
     "text": [
      "Processing images:  50%|████▉     | 210/423 [01:47<01:25,  2.48it/s]"
     ]
    },
    {
     "name": "stdout",
     "output_type": "stream",
     "text": [
      "Processing bird_id 43: Eurasian Wryneck (image 1)\n"
     ]
    },
    {
     "name": "stderr",
     "output_type": "stream",
     "text": [
      "Processing images:  50%|████▉     | 211/423 [01:48<01:17,  2.74it/s]"
     ]
    },
    {
     "name": "stdout",
     "output_type": "stream",
     "text": [
      "Processing bird_id 43: Eurasian Wryneck (image 2)\n"
     ]
    },
    {
     "name": "stderr",
     "output_type": "stream",
     "text": [
      "Processing images:  50%|█████     | 212/423 [01:48<01:09,  3.02it/s]"
     ]
    },
    {
     "name": "stdout",
     "output_type": "stream",
     "text": [
      "Processing bird_id 43: Eurasian Wryneck (image 3)\n"
     ]
    },
    {
     "name": "stderr",
     "output_type": "stream",
     "text": [
      "Processing images:  50%|█████     | 213/423 [01:48<01:02,  3.36it/s]"
     ]
    },
    {
     "name": "stdout",
     "output_type": "stream",
     "text": [
      "Processing bird_id 43: Eurasian Wryneck (image 4)\n"
     ]
    },
    {
     "name": "stderr",
     "output_type": "stream",
     "text": [
      "Processing images:  51%|█████     | 214/423 [01:48<01:08,  3.04it/s]"
     ]
    },
    {
     "name": "stdout",
     "output_type": "stream",
     "text": [
      "Processing bird_id 43: Eurasian Wryneck (image 5)\n"
     ]
    },
    {
     "name": "stderr",
     "output_type": "stream",
     "text": [
      "Processing images:  51%|█████     | 216/423 [01:49<00:57,  3.59it/s]"
     ]
    },
    {
     "name": "stdout",
     "output_type": "stream",
     "text": [
      "Processing bird_id 44: European Bee-eater (image 1)\n",
      "Processing bird_id 44: European Bee-eater (image 2)\n"
     ]
    },
    {
     "name": "stderr",
     "output_type": "stream",
     "text": [
      "Processing images:  51%|█████▏    | 217/423 [01:49<01:00,  3.42it/s]"
     ]
    },
    {
     "name": "stdout",
     "output_type": "stream",
     "text": [
      "Processing bird_id 44: European Bee-eater (image 3)\n"
     ]
    },
    {
     "name": "stderr",
     "output_type": "stream",
     "text": [
      "Processing images:  52%|█████▏    | 218/423 [01:50<01:31,  2.24it/s]"
     ]
    },
    {
     "name": "stdout",
     "output_type": "stream",
     "text": [
      "Processing bird_id 44: European Bee-eater (image 4)\n"
     ]
    },
    {
     "name": "stderr",
     "output_type": "stream",
     "text": [
      "Processing images:  52%|█████▏    | 219/423 [01:50<01:24,  2.41it/s]"
     ]
    },
    {
     "name": "stdout",
     "output_type": "stream",
     "text": [
      "Processing bird_id 44: European Bee-eater (image 5)\n"
     ]
    },
    {
     "name": "stderr",
     "output_type": "stream",
     "text": [
      "Processing images:  52%|█████▏    | 221/423 [01:51<01:08,  2.96it/s]"
     ]
    },
    {
     "name": "stdout",
     "output_type": "stream",
     "text": [
      "Processing bird_id 45: European Golden Plover (image 1)\n",
      "Processing bird_id 45: European Golden Plover (image 2)\n"
     ]
    },
    {
     "name": "stderr",
     "output_type": "stream",
     "text": [
      "Processing images:  52%|█████▏    | 222/423 [01:51<00:58,  3.43it/s]"
     ]
    },
    {
     "name": "stdout",
     "output_type": "stream",
     "text": [
      "Processing bird_id 45: European Golden Plover (image 3)\n"
     ]
    },
    {
     "name": "stderr",
     "output_type": "stream",
     "text": [
      "Processing images:  53%|█████▎    | 224/423 [01:52<00:51,  3.83it/s]"
     ]
    },
    {
     "name": "stdout",
     "output_type": "stream",
     "text": [
      "Processing bird_id 45: European Golden Plover (image 4)\n",
      "Processing bird_id 45: European Golden Plover (image 5)\n"
     ]
    },
    {
     "name": "stderr",
     "output_type": "stream",
     "text": [
      "Processing images:  53%|█████▎    | 225/423 [01:52<01:00,  3.29it/s]"
     ]
    },
    {
     "name": "stdout",
     "output_type": "stream",
     "text": [
      "Processing bird_id 46: European Goldfinch (image 1)\n"
     ]
    },
    {
     "name": "stderr",
     "output_type": "stream",
     "text": [
      "Processing images:  54%|█████▎    | 227/423 [01:52<00:51,  3.83it/s]"
     ]
    },
    {
     "name": "stdout",
     "output_type": "stream",
     "text": [
      "Processing bird_id 46: European Goldfinch (image 2)\n",
      "Processing bird_id 46: European Goldfinch (image 3)\n"
     ]
    },
    {
     "name": "stderr",
     "output_type": "stream",
     "text": [
      "Processing images:  54%|█████▍    | 228/423 [01:53<00:54,  3.59it/s]"
     ]
    },
    {
     "name": "stdout",
     "output_type": "stream",
     "text": [
      "Processing bird_id 46: European Goldfinch (image 4)\n"
     ]
    },
    {
     "name": "stderr",
     "output_type": "stream",
     "text": [
      "Processing images:  54%|█████▍    | 229/423 [01:53<00:52,  3.72it/s]"
     ]
    },
    {
     "name": "stdout",
     "output_type": "stream",
     "text": [
      "Processing bird_id 46: European Goldfinch (image 5)\n"
     ]
    },
    {
     "name": "stderr",
     "output_type": "stream",
     "text": [
      "Processing images:  54%|█████▍    | 230/423 [01:53<00:59,  3.23it/s]"
     ]
    },
    {
     "name": "stdout",
     "output_type": "stream",
     "text": [
      "Processing bird_id 47: European Green Woodpecker (image 1)\n"
     ]
    },
    {
     "name": "stderr",
     "output_type": "stream",
     "text": [
      "Processing images:  55%|█████▍    | 231/423 [01:54<00:58,  3.28it/s]"
     ]
    },
    {
     "name": "stdout",
     "output_type": "stream",
     "text": [
      "Processing bird_id 47: European Green Woodpecker (image 2)\n"
     ]
    },
    {
     "name": "stderr",
     "output_type": "stream",
     "text": [
      "Processing images:  55%|█████▍    | 232/423 [01:54<00:56,  3.40it/s]"
     ]
    },
    {
     "name": "stdout",
     "output_type": "stream",
     "text": [
      "Processing bird_id 47: European Green Woodpecker (image 3)\n"
     ]
    },
    {
     "name": "stderr",
     "output_type": "stream",
     "text": [
      "Processing images:  55%|█████▌    | 233/423 [01:54<00:53,  3.57it/s]"
     ]
    },
    {
     "name": "stdout",
     "output_type": "stream",
     "text": [
      "Processing bird_id 47: European Green Woodpecker (image 4)\n"
     ]
    },
    {
     "name": "stderr",
     "output_type": "stream",
     "text": [
      "Processing images:  55%|█████▌    | 234/423 [01:55<00:59,  3.20it/s]"
     ]
    },
    {
     "name": "stdout",
     "output_type": "stream",
     "text": [
      "Processing bird_id 47: European Green Woodpecker (image 5)\n"
     ]
    },
    {
     "name": "stderr",
     "output_type": "stream",
     "text": [
      "Processing images:  56%|█████▌    | 235/423 [01:55<00:58,  3.19it/s]"
     ]
    },
    {
     "name": "stdout",
     "output_type": "stream",
     "text": [
      "Processing bird_id 48: European Greenfinch (image 1)\n"
     ]
    },
    {
     "name": "stderr",
     "output_type": "stream",
     "text": [
      "Processing images:  56%|█████▌    | 236/423 [01:55<00:57,  3.23it/s]"
     ]
    },
    {
     "name": "stdout",
     "output_type": "stream",
     "text": [
      "Processing bird_id 48: European Greenfinch (image 2)\n"
     ]
    },
    {
     "name": "stderr",
     "output_type": "stream",
     "text": [
      "Processing images:  56%|█████▌    | 237/423 [01:55<00:52,  3.53it/s]"
     ]
    },
    {
     "name": "stdout",
     "output_type": "stream",
     "text": [
      "Processing bird_id 48: European Greenfinch (image 3)\n"
     ]
    },
    {
     "name": "stderr",
     "output_type": "stream",
     "text": [
      "Processing images:  57%|█████▋    | 239/423 [01:56<00:44,  4.17it/s]"
     ]
    },
    {
     "name": "stdout",
     "output_type": "stream",
     "text": [
      "Processing bird_id 48: European Greenfinch (image 4)\n",
      "Processing bird_id 48: European Greenfinch (image 5)\n"
     ]
    },
    {
     "name": "stderr",
     "output_type": "stream",
     "text": [
      "Processing images:  57%|█████▋    | 240/423 [01:56<00:55,  3.29it/s]"
     ]
    },
    {
     "name": "stdout",
     "output_type": "stream",
     "text": [
      "Processing bird_id 49: European Herring Gull (image 1)\n"
     ]
    },
    {
     "name": "stderr",
     "output_type": "stream",
     "text": [
      "Processing images:  57%|█████▋    | 241/423 [01:57<00:57,  3.15it/s]"
     ]
    },
    {
     "name": "stdout",
     "output_type": "stream",
     "text": [
      "Processing bird_id 49: European Herring Gull (image 2)\n"
     ]
    },
    {
     "name": "stderr",
     "output_type": "stream",
     "text": [
      "Processing images:  57%|█████▋    | 242/423 [01:57<01:01,  2.95it/s]"
     ]
    },
    {
     "name": "stdout",
     "output_type": "stream",
     "text": [
      "Processing bird_id 49: European Herring Gull (image 3)\n"
     ]
    },
    {
     "name": "stderr",
     "output_type": "stream",
     "text": [
      "Processing images:  57%|█████▋    | 243/423 [01:57<01:01,  2.93it/s]"
     ]
    },
    {
     "name": "stdout",
     "output_type": "stream",
     "text": [
      "Processing bird_id 49: European Herring Gull (image 4)\n"
     ]
    },
    {
     "name": "stderr",
     "output_type": "stream",
     "text": [
      "Processing images:  58%|█████▊    | 244/423 [01:58<01:04,  2.77it/s]"
     ]
    },
    {
     "name": "stdout",
     "output_type": "stream",
     "text": [
      "Processing bird_id 49: European Herring Gull (image 5)\n"
     ]
    },
    {
     "name": "stderr",
     "output_type": "stream",
     "text": [
      "Processing images:  58%|█████▊    | 245/423 [01:58<01:07,  2.62it/s]"
     ]
    },
    {
     "name": "stdout",
     "output_type": "stream",
     "text": [
      "Processing bird_id 50: European Honey Buzzard (image 1)\n"
     ]
    },
    {
     "name": "stderr",
     "output_type": "stream",
     "text": [
      "Processing images:  58%|█████▊    | 246/423 [01:59<01:07,  2.61it/s]"
     ]
    },
    {
     "name": "stdout",
     "output_type": "stream",
     "text": [
      "Processing bird_id 50: European Honey Buzzard (image 2)\n"
     ]
    },
    {
     "name": "stderr",
     "output_type": "stream",
     "text": [
      "Processing images:  58%|█████▊    | 247/423 [01:59<00:59,  2.96it/s]"
     ]
    },
    {
     "name": "stdout",
     "output_type": "stream",
     "text": [
      "Processing bird_id 50: European Honey Buzzard (image 3)\n"
     ]
    },
    {
     "name": "stderr",
     "output_type": "stream",
     "text": [
      "Processing images:  59%|█████▉    | 249/423 [01:59<00:49,  3.55it/s]"
     ]
    },
    {
     "name": "stdout",
     "output_type": "stream",
     "text": [
      "Processing bird_id 50: European Honey Buzzard (image 4)\n",
      "Processing bird_id 50: European Honey Buzzard (image 5)\n"
     ]
    },
    {
     "name": "stderr",
     "output_type": "stream",
     "text": [
      "Processing images:  59%|█████▉    | 251/423 [02:00<00:37,  4.60it/s]"
     ]
    },
    {
     "name": "stdout",
     "output_type": "stream",
     "text": [
      "Processing bird_id 51: European Nightjar (image 1)\n",
      "Processing bird_id 51: European Nightjar (image 2)\n"
     ]
    },
    {
     "name": "stderr",
     "output_type": "stream",
     "text": [
      "Processing images:  60%|█████▉    | 253/423 [02:00<00:31,  5.44it/s]"
     ]
    },
    {
     "name": "stdout",
     "output_type": "stream",
     "text": [
      "Processing bird_id 51: European Nightjar (image 3)\n",
      "Processing bird_id 52: European Robin (image 1)\n"
     ]
    },
    {
     "name": "stderr",
     "output_type": "stream",
     "text": [
      "Processing images:  60%|██████    | 254/423 [02:00<00:34,  4.89it/s]"
     ]
    },
    {
     "name": "stdout",
     "output_type": "stream",
     "text": [
      "Processing bird_id 52: European Robin (image 2)\n"
     ]
    },
    {
     "name": "stderr",
     "output_type": "stream",
     "text": [
      "Processing images:  60%|██████    | 255/423 [02:01<00:42,  3.91it/s]"
     ]
    },
    {
     "name": "stdout",
     "output_type": "stream",
     "text": [
      "Processing bird_id 52: European Robin (image 3)\n"
     ]
    },
    {
     "name": "stderr",
     "output_type": "stream",
     "text": [
      "Processing images:  61%|██████    | 257/423 [02:01<00:50,  3.31it/s]"
     ]
    },
    {
     "name": "stdout",
     "output_type": "stream",
     "text": [
      "Processing bird_id 52: European Robin (image 4)\n",
      "Processing bird_id 52: European Robin (image 5)\n"
     ]
    },
    {
     "name": "stderr",
     "output_type": "stream",
     "text": [
      "Processing images:  61%|██████    | 259/423 [02:02<00:42,  3.82it/s]"
     ]
    },
    {
     "name": "stdout",
     "output_type": "stream",
     "text": [
      "Processing bird_id 53: European Turtle Dove (image 1)\n",
      "Processing bird_id 53: European Turtle Dove (image 2)\n"
     ]
    },
    {
     "name": "stderr",
     "output_type": "stream",
     "text": [
      "Processing images:  61%|██████▏   | 260/423 [02:02<00:41,  3.98it/s]"
     ]
    },
    {
     "name": "stdout",
     "output_type": "stream",
     "text": [
      "Processing bird_id 53: European Turtle Dove (image 3)\n"
     ]
    },
    {
     "name": "stderr",
     "output_type": "stream",
     "text": [
      "Processing images:  62%|██████▏   | 262/423 [02:02<00:35,  4.54it/s]"
     ]
    },
    {
     "name": "stdout",
     "output_type": "stream",
     "text": [
      "Processing bird_id 54: Garden Warbler (image 1)\n",
      "Processing bird_id 54: Garden Warbler (image 2)\n"
     ]
    },
    {
     "name": "stderr",
     "output_type": "stream",
     "text": [
      "Processing images:  62%|██████▏   | 264/423 [02:03<00:31,  5.04it/s]"
     ]
    },
    {
     "name": "stdout",
     "output_type": "stream",
     "text": [
      "Processing bird_id 54: Garden Warbler (image 3)\n",
      "Processing bird_id 54: Garden Warbler (image 4)\n"
     ]
    },
    {
     "name": "stderr",
     "output_type": "stream",
     "text": [
      "Processing images:  63%|██████▎   | 265/423 [02:03<00:30,  5.21it/s]"
     ]
    },
    {
     "name": "stdout",
     "output_type": "stream",
     "text": [
      "Processing bird_id 54: Garden Warbler (image 5)\n"
     ]
    },
    {
     "name": "stderr",
     "output_type": "stream",
     "text": [
      "Processing images:  63%|██████▎   | 266/423 [02:03<00:35,  4.44it/s]"
     ]
    },
    {
     "name": "stdout",
     "output_type": "stream",
     "text": [
      "Processing bird_id 55: Goldcrest (image 1)\n"
     ]
    },
    {
     "name": "stderr",
     "output_type": "stream",
     "text": [
      "Processing images:  63%|██████▎   | 267/423 [02:04<00:34,  4.47it/s]"
     ]
    },
    {
     "name": "stdout",
     "output_type": "stream",
     "text": [
      "Processing bird_id 55: Goldcrest (image 2)\n"
     ]
    },
    {
     "name": "stderr",
     "output_type": "stream",
     "text": [
      "Processing images:  64%|██████▎   | 269/423 [02:04<00:30,  5.05it/s]"
     ]
    },
    {
     "name": "stdout",
     "output_type": "stream",
     "text": [
      "Processing bird_id 55: Goldcrest (image 3)\n",
      "Processing bird_id 55: Goldcrest (image 4)\n"
     ]
    },
    {
     "name": "stderr",
     "output_type": "stream",
     "text": [
      "Processing images:  64%|██████▍   | 271/423 [02:04<00:28,  5.27it/s]"
     ]
    },
    {
     "name": "stdout",
     "output_type": "stream",
     "text": [
      "Processing bird_id 55: Goldcrest (image 5)\n",
      "Processing bird_id 56: Great Spotted Woodpecker (image 1)\n"
     ]
    },
    {
     "name": "stderr",
     "output_type": "stream",
     "text": [
      "Processing images:  65%|██████▍   | 273/423 [02:05<00:29,  5.11it/s]"
     ]
    },
    {
     "name": "stdout",
     "output_type": "stream",
     "text": [
      "Processing bird_id 56: Great Spotted Woodpecker (image 2)\n",
      "Processing bird_id 56: Great Spotted Woodpecker (image 3)\n"
     ]
    },
    {
     "name": "stderr",
     "output_type": "stream",
     "text": [
      "Processing images:  65%|██████▌   | 275/423 [02:05<00:34,  4.24it/s]"
     ]
    },
    {
     "name": "stdout",
     "output_type": "stream",
     "text": [
      "Processing bird_id 56: Great Spotted Woodpecker (image 4)\n",
      "Processing bird_id 56: Great Spotted Woodpecker (image 5)\n"
     ]
    },
    {
     "name": "stderr",
     "output_type": "stream",
     "text": [
      "Processing images:  65%|██████▌   | 277/423 [02:06<00:31,  4.71it/s]"
     ]
    },
    {
     "name": "stdout",
     "output_type": "stream",
     "text": [
      "Processing bird_id 57: Great Tit (image 1)\n",
      "Processing bird_id 57: Great Tit (image 2)\n"
     ]
    },
    {
     "name": "stderr",
     "output_type": "stream",
     "text": [
      "Processing images:  66%|██████▌   | 278/423 [02:06<00:33,  4.39it/s]"
     ]
    },
    {
     "name": "stdout",
     "output_type": "stream",
     "text": [
      "Processing bird_id 57: Great Tit (image 3)\n"
     ]
    },
    {
     "name": "stderr",
     "output_type": "stream",
     "text": [
      "Processing images:  66%|██████▌   | 280/423 [02:06<00:35,  4.06it/s]"
     ]
    },
    {
     "name": "stdout",
     "output_type": "stream",
     "text": [
      "Processing bird_id 57: Great Tit (image 4)\n",
      "Processing bird_id 57: Great Tit (image 5)\n"
     ]
    },
    {
     "name": "stderr",
     "output_type": "stream",
     "text": [
      "Processing images:  66%|██████▋   | 281/423 [02:07<00:34,  4.13it/s]"
     ]
    },
    {
     "name": "stdout",
     "output_type": "stream",
     "text": [
      "Processing bird_id 58: Grey Partridge (image 1)\n"
     ]
    },
    {
     "name": "stderr",
     "output_type": "stream",
     "text": [
      "Processing images:  67%|██████▋   | 283/423 [02:07<00:33,  4.24it/s]"
     ]
    },
    {
     "name": "stdout",
     "output_type": "stream",
     "text": [
      "Processing bird_id 58: Grey Partridge (image 2)\n",
      "Processing bird_id 58: Grey Partridge (image 3)\n"
     ]
    },
    {
     "name": "stderr",
     "output_type": "stream",
     "text": [
      "Processing images:  67%|██████▋   | 284/423 [02:08<00:48,  2.84it/s]"
     ]
    },
    {
     "name": "stdout",
     "output_type": "stream",
     "text": [
      "Processing bird_id 58: Grey Partridge (image 4)\n"
     ]
    },
    {
     "name": "stderr",
     "output_type": "stream",
     "text": [
      "Processing images:  68%|██████▊   | 286/423 [02:08<00:39,  3.51it/s]"
     ]
    },
    {
     "name": "stdout",
     "output_type": "stream",
     "text": [
      "Processing bird_id 58: Grey Partridge (image 5)\n",
      "Processing bird_id 59: Grey Plover (image 1)\n"
     ]
    },
    {
     "name": "stderr",
     "output_type": "stream",
     "text": [
      "Processing images:  68%|██████▊   | 288/423 [02:09<00:32,  4.09it/s]"
     ]
    },
    {
     "name": "stdout",
     "output_type": "stream",
     "text": [
      "Processing bird_id 59: Grey Plover (image 2)\n"
     ]
    },
    {
     "name": "stderr",
     "output_type": "stream",
     "text": [
      "Processing images:  68%|██████▊   | 289/423 [02:09<00:30,  4.43it/s]"
     ]
    },
    {
     "name": "stdout",
     "output_type": "stream",
     "text": [
      "Processing bird_id 59: Grey Plover (image 3)\n"
     ]
    },
    {
     "name": "stderr",
     "output_type": "stream",
     "text": [
      "Processing images:  69%|██████▊   | 290/423 [02:09<00:29,  4.51it/s]"
     ]
    },
    {
     "name": "stdout",
     "output_type": "stream",
     "text": [
      "Processing bird_id 59: Grey Plover (image 4)\n"
     ]
    },
    {
     "name": "stderr",
     "output_type": "stream",
     "text": [
      "Processing images:  69%|██████▉   | 291/423 [02:09<00:27,  4.72it/s]"
     ]
    },
    {
     "name": "stdout",
     "output_type": "stream",
     "text": [
      "Processing bird_id 59: Grey Plover (image 5)\n",
      "Processing bird_id 60: House Sparrow (image 1)\n"
     ]
    },
    {
     "name": "stderr",
     "output_type": "stream",
     "text": [
      "Processing images:  69%|██████▉   | 293/423 [02:10<00:31,  4.19it/s]"
     ]
    },
    {
     "name": "stdout",
     "output_type": "stream",
     "text": [
      "Processing bird_id 60: House Sparrow (image 2)\n"
     ]
    },
    {
     "name": "stderr",
     "output_type": "stream",
     "text": [
      "Processing images:  70%|██████▉   | 294/423 [02:10<00:29,  4.30it/s]"
     ]
    },
    {
     "name": "stdout",
     "output_type": "stream",
     "text": [
      "Processing bird_id 60: House Sparrow (image 3)\n",
      "Processing bird_id 60: House Sparrow (image 4)\n"
     ]
    },
    {
     "name": "stderr",
     "output_type": "stream",
     "text": [
      "Processing images:  70%|██████▉   | 295/423 [02:10<00:29,  4.33it/s]"
     ]
    },
    {
     "name": "stdout",
     "output_type": "stream",
     "text": [
      "Processing bird_id 60: House Sparrow (image 5)\n"
     ]
    },
    {
     "name": "stderr",
     "output_type": "stream",
     "text": [
      "Processing images:  70%|██████▉   | 296/423 [02:11<00:28,  4.46it/s]"
     ]
    },
    {
     "name": "stdout",
     "output_type": "stream",
     "text": [
      "Processing bird_id 61: Lesser Whitethroat (image 1)\n"
     ]
    },
    {
     "name": "stderr",
     "output_type": "stream",
     "text": [
      "Processing images:  70%|███████   | 297/423 [02:11<00:28,  4.35it/s]"
     ]
    },
    {
     "name": "stdout",
     "output_type": "stream",
     "text": [
      "Processing bird_id 61: Lesser Whitethroat (image 2)\n"
     ]
    },
    {
     "name": "stderr",
     "output_type": "stream",
     "text": [
      "Processing images:  70%|███████   | 298/423 [02:11<00:32,  3.89it/s]"
     ]
    },
    {
     "name": "stdout",
     "output_type": "stream",
     "text": [
      "Processing bird_id 61: Lesser Whitethroat (image 3)\n"
     ]
    },
    {
     "name": "stderr",
     "output_type": "stream",
     "text": [
      "Processing images:  71%|███████   | 300/423 [02:12<00:32,  3.82it/s]"
     ]
    },
    {
     "name": "stdout",
     "output_type": "stream",
     "text": [
      "Processing bird_id 61: Lesser Whitethroat (image 4)\n",
      "Processing bird_id 61: Lesser Whitethroat (image 5)\n"
     ]
    },
    {
     "name": "stderr",
     "output_type": "stream",
     "text": [
      "Processing images:  71%|███████   | 301/423 [02:12<00:28,  4.29it/s]"
     ]
    },
    {
     "name": "stdout",
     "output_type": "stream",
     "text": [
      "Processing bird_id 62: Long-tailed Tit (image 1)\n"
     ]
    },
    {
     "name": "stderr",
     "output_type": "stream",
     "text": [
      "Processing images:  71%|███████▏  | 302/423 [02:12<00:41,  2.93it/s]"
     ]
    },
    {
     "name": "stdout",
     "output_type": "stream",
     "text": [
      "Processing bird_id 62: Long-tailed Tit (image 2)\n"
     ]
    },
    {
     "name": "stderr",
     "output_type": "stream",
     "text": [
      "Processing images:  72%|███████▏  | 303/423 [02:13<00:40,  2.98it/s]"
     ]
    },
    {
     "name": "stdout",
     "output_type": "stream",
     "text": [
      "Processing bird_id 62: Long-tailed Tit (image 3)\n"
     ]
    },
    {
     "name": "stderr",
     "output_type": "stream",
     "text": [
      "Processing images:  72%|███████▏  | 304/423 [02:13<00:46,  2.56it/s]"
     ]
    },
    {
     "name": "stdout",
     "output_type": "stream",
     "text": [
      "Processing bird_id 62: Long-tailed Tit (image 4)\n"
     ]
    },
    {
     "name": "stderr",
     "output_type": "stream",
     "text": [
      "Processing images:  72%|███████▏  | 305/423 [02:14<00:42,  2.78it/s]"
     ]
    },
    {
     "name": "stdout",
     "output_type": "stream",
     "text": [
      "Processing bird_id 62: Long-tailed Tit (image 5)\n"
     ]
    },
    {
     "name": "stderr",
     "output_type": "stream",
     "text": [
      "Processing images:  72%|███████▏  | 306/423 [02:14<00:44,  2.61it/s]"
     ]
    },
    {
     "name": "stdout",
     "output_type": "stream",
     "text": [
      "Processing bird_id 63: Marsh Tit (image 1)\n"
     ]
    },
    {
     "name": "stderr",
     "output_type": "stream",
     "text": [
      "Processing images:  73%|███████▎  | 308/423 [02:14<00:35,  3.27it/s]"
     ]
    },
    {
     "name": "stdout",
     "output_type": "stream",
     "text": [
      "Processing bird_id 63: Marsh Tit (image 2)\n",
      "Processing bird_id 63: Marsh Tit (image 3)\n"
     ]
    },
    {
     "name": "stderr",
     "output_type": "stream",
     "text": [
      "Processing images:  73%|███████▎  | 310/423 [02:15<00:26,  4.28it/s]"
     ]
    },
    {
     "name": "stdout",
     "output_type": "stream",
     "text": [
      "Processing bird_id 63: Marsh Tit (image 4)\n",
      "Processing bird_id 63: Marsh Tit (image 5)\n"
     ]
    },
    {
     "name": "stderr",
     "output_type": "stream",
     "text": [
      "Processing images:  74%|███████▎  | 311/423 [02:15<00:23,  4.71it/s]"
     ]
    },
    {
     "name": "stdout",
     "output_type": "stream",
     "text": [
      "Processing bird_id 64: Marsh Warbler (image 1)\n"
     ]
    },
    {
     "name": "stderr",
     "output_type": "stream",
     "text": [
      "Processing images:  74%|███████▍  | 313/423 [02:15<00:24,  4.45it/s]"
     ]
    },
    {
     "name": "stdout",
     "output_type": "stream",
     "text": [
      "Processing bird_id 64: Marsh Warbler (image 2)\n",
      "Processing bird_id 64: Marsh Warbler (image 3)\n"
     ]
    },
    {
     "name": "stderr",
     "output_type": "stream",
     "text": [
      "Processing images:  74%|███████▍  | 315/423 [02:16<00:19,  5.48it/s]"
     ]
    },
    {
     "name": "stdout",
     "output_type": "stream",
     "text": [
      "Processing bird_id 64: Marsh Warbler (image 4)\n",
      "Processing bird_id 64: Marsh Warbler (image 5)\n"
     ]
    },
    {
     "name": "stderr",
     "output_type": "stream",
     "text": [
      "Processing images:  75%|███████▍  | 316/423 [02:16<00:18,  5.92it/s]"
     ]
    },
    {
     "name": "stdout",
     "output_type": "stream",
     "text": [
      "Processing bird_id 65: Meadow Pipit (image 1)\n"
     ]
    },
    {
     "name": "stderr",
     "output_type": "stream",
     "text": [
      "Processing images:  75%|███████▌  | 318/423 [02:16<00:21,  4.85it/s]"
     ]
    },
    {
     "name": "stdout",
     "output_type": "stream",
     "text": [
      "Processing bird_id 65: Meadow Pipit (image 2)\n",
      "Processing bird_id 65: Meadow Pipit (image 3)\n"
     ]
    },
    {
     "name": "stderr",
     "output_type": "stream",
     "text": [
      "Processing images:  75%|███████▌  | 319/423 [02:17<00:19,  5.23it/s]"
     ]
    },
    {
     "name": "stdout",
     "output_type": "stream",
     "text": [
      "Processing bird_id 65: Meadow Pipit (image 4)\n"
     ]
    },
    {
     "name": "stderr",
     "output_type": "stream",
     "text": [
      "Processing images:  76%|███████▌  | 320/423 [02:17<00:23,  4.47it/s]"
     ]
    },
    {
     "name": "stdout",
     "output_type": "stream",
     "text": [
      "Processing bird_id 65: Meadow Pipit (image 5)\n"
     ]
    },
    {
     "name": "stderr",
     "output_type": "stream",
     "text": [
      "Processing images:  76%|███████▌  | 321/423 [02:18<00:37,  2.75it/s]"
     ]
    },
    {
     "name": "stdout",
     "output_type": "stream",
     "text": [
      "Processing bird_id 66: Northern Lapwing (image 1)\n"
     ]
    },
    {
     "name": "stderr",
     "output_type": "stream",
     "text": [
      "Processing images:  76%|███████▌  | 322/423 [02:18<00:34,  2.96it/s]"
     ]
    },
    {
     "name": "stdout",
     "output_type": "stream",
     "text": [
      "Processing bird_id 66: Northern Lapwing (image 2)\n"
     ]
    },
    {
     "name": "stderr",
     "output_type": "stream",
     "text": [
      "Processing images:  77%|███████▋  | 324/423 [02:18<00:25,  3.92it/s]"
     ]
    },
    {
     "name": "stdout",
     "output_type": "stream",
     "text": [
      "Processing bird_id 66: Northern Lapwing (image 3)\n",
      "Processing bird_id 66: Northern Lapwing (image 4)\n"
     ]
    },
    {
     "name": "stderr",
     "output_type": "stream",
     "text": [
      "Processing images:  77%|███████▋  | 325/423 [02:19<00:27,  3.58it/s]"
     ]
    },
    {
     "name": "stdout",
     "output_type": "stream",
     "text": [
      "Processing bird_id 66: Northern Lapwing (image 5)\n"
     ]
    },
    {
     "name": "stderr",
     "output_type": "stream",
     "text": [
      "Processing images:  77%|███████▋  | 327/423 [02:19<00:24,  3.98it/s]"
     ]
    },
    {
     "name": "stdout",
     "output_type": "stream",
     "text": [
      "Processing bird_id 67: Northern Raven (image 1)\n",
      "Processing bird_id 67: Northern Raven (image 2)\n"
     ]
    },
    {
     "name": "stderr",
     "output_type": "stream",
     "text": [
      "Processing images:  78%|███████▊  | 329/423 [02:19<00:20,  4.52it/s]"
     ]
    },
    {
     "name": "stdout",
     "output_type": "stream",
     "text": [
      "Processing bird_id 67: Northern Raven (image 3)\n",
      "Processing bird_id 67: Northern Raven (image 4)\n"
     ]
    },
    {
     "name": "stderr",
     "output_type": "stream",
     "text": [
      "Processing images:  78%|███████▊  | 331/423 [02:20<00:19,  4.65it/s]"
     ]
    },
    {
     "name": "stdout",
     "output_type": "stream",
     "text": [
      "Processing bird_id 68: Red Crossbill (image 1)\n",
      "Processing bird_id 68: Red Crossbill (image 2)\n"
     ]
    },
    {
     "name": "stderr",
     "output_type": "stream",
     "text": [
      "Processing images:  78%|███████▊  | 332/423 [02:20<00:22,  4.12it/s]"
     ]
    },
    {
     "name": "stdout",
     "output_type": "stream",
     "text": [
      "Processing bird_id 68: Red Crossbill (image 3)\n"
     ]
    },
    {
     "name": "stderr",
     "output_type": "stream",
     "text": [
      "Processing images:  79%|███████▊  | 333/423 [02:21<00:32,  2.79it/s]"
     ]
    },
    {
     "name": "stdout",
     "output_type": "stream",
     "text": [
      "Processing bird_id 68: Red Crossbill (image 4)\n"
     ]
    },
    {
     "name": "stderr",
     "output_type": "stream",
     "text": [
      "Processing images:  79%|███████▉  | 334/423 [02:22<00:44,  2.00it/s]"
     ]
    },
    {
     "name": "stdout",
     "output_type": "stream",
     "text": [
      "Processing bird_id 68: Red Crossbill (image 5)\n"
     ]
    },
    {
     "name": "stderr",
     "output_type": "stream",
     "text": [
      "Processing images:  79%|███████▉  | 335/423 [02:22<00:52,  1.68it/s]"
     ]
    },
    {
     "name": "stdout",
     "output_type": "stream",
     "text": [
      "Processing bird_id 69: Red-throated Loon (image 1)\n"
     ]
    },
    {
     "name": "stderr",
     "output_type": "stream",
     "text": [
      "Processing images:  79%|███████▉  | 336/423 [02:23<00:44,  1.97it/s]"
     ]
    },
    {
     "name": "stdout",
     "output_type": "stream",
     "text": [
      "Processing bird_id 69: Red-throated Loon (image 2)\n"
     ]
    },
    {
     "name": "stderr",
     "output_type": "stream",
     "text": [
      "Processing images:  80%|███████▉  | 337/423 [02:23<00:36,  2.35it/s]"
     ]
    },
    {
     "name": "stdout",
     "output_type": "stream",
     "text": [
      "Processing bird_id 69: Red-throated Loon (image 3)\n"
     ]
    },
    {
     "name": "stderr",
     "output_type": "stream",
     "text": [
      "Processing images:  80%|████████  | 339/423 [02:23<00:25,  3.27it/s]"
     ]
    },
    {
     "name": "stdout",
     "output_type": "stream",
     "text": [
      "Processing bird_id 69: Red-throated Loon (image 4)\n",
      "Processing bird_id 69: Red-throated Loon (image 5)\n"
     ]
    },
    {
     "name": "stderr",
     "output_type": "stream",
     "text": [
      "Processing images:  80%|████████  | 340/423 [02:24<00:22,  3.63it/s]"
     ]
    },
    {
     "name": "stdout",
     "output_type": "stream",
     "text": [
      "Processing bird_id 70: Redwing (image 1)\n"
     ]
    },
    {
     "name": "stderr",
     "output_type": "stream",
     "text": [
      "Processing images:  81%|████████  | 341/423 [02:24<00:28,  2.85it/s]"
     ]
    },
    {
     "name": "stdout",
     "output_type": "stream",
     "text": [
      "Processing bird_id 70: Redwing (image 2)\n"
     ]
    },
    {
     "name": "stderr",
     "output_type": "stream",
     "text": [
      "Processing images:  81%|████████  | 342/423 [02:24<00:26,  3.07it/s]"
     ]
    },
    {
     "name": "stdout",
     "output_type": "stream",
     "text": [
      "Processing bird_id 70: Redwing (image 3)\n"
     ]
    },
    {
     "name": "stderr",
     "output_type": "stream",
     "text": [
      "Processing images:  81%|████████▏ | 344/423 [02:25<00:20,  3.81it/s]"
     ]
    },
    {
     "name": "stdout",
     "output_type": "stream",
     "text": [
      "Processing bird_id 70: Redwing (image 4)\n",
      "Processing bird_id 70: Redwing (image 5)\n"
     ]
    },
    {
     "name": "stderr",
     "output_type": "stream",
     "text": [
      "Processing images:  82%|████████▏ | 346/423 [02:25<00:16,  4.70it/s]"
     ]
    },
    {
     "name": "stdout",
     "output_type": "stream",
     "text": [
      "Processing bird_id 71: River Warbler (image 1)\n",
      "Processing bird_id 71: River Warbler (image 2)\n"
     ]
    },
    {
     "name": "stderr",
     "output_type": "stream",
     "text": [
      "Processing images:  82%|████████▏ | 348/423 [02:25<00:14,  5.16it/s]"
     ]
    },
    {
     "name": "stdout",
     "output_type": "stream",
     "text": [
      "Processing bird_id 71: River Warbler (image 3)\n",
      "Processing bird_id 72: Rock Dove (image 1)\n"
     ]
    },
    {
     "name": "stderr",
     "output_type": "stream",
     "text": [
      "Processing images:  83%|████████▎ | 349/423 [02:26<00:13,  5.48it/s]"
     ]
    },
    {
     "name": "stdout",
     "output_type": "stream",
     "text": [
      "Processing bird_id 72: Rock Dove (image 2)\n"
     ]
    },
    {
     "name": "stderr",
     "output_type": "stream",
     "text": [
      "Processing images:  83%|████████▎ | 350/423 [02:26<00:18,  4.05it/s]"
     ]
    },
    {
     "name": "stdout",
     "output_type": "stream",
     "text": [
      "Processing bird_id 72: Rock Dove (image 3)\n"
     ]
    },
    {
     "name": "stderr",
     "output_type": "stream",
     "text": [
      "Processing images:  83%|████████▎ | 352/423 [02:26<00:15,  4.48it/s]"
     ]
    },
    {
     "name": "stdout",
     "output_type": "stream",
     "text": [
      "Processing bird_id 72: Rock Dove (image 4)\n",
      "Processing bird_id 72: Rock Dove (image 5)\n"
     ]
    },
    {
     "name": "stderr",
     "output_type": "stream",
     "text": [
      "Processing images:  83%|████████▎ | 353/423 [02:27<00:21,  3.24it/s]"
     ]
    },
    {
     "name": "stdout",
     "output_type": "stream",
     "text": [
      "Processing bird_id 73: Rook (image 1)\n"
     ]
    },
    {
     "name": "stderr",
     "output_type": "stream",
     "text": [
      "Processing images:  84%|████████▍ | 355/423 [02:27<00:18,  3.58it/s]"
     ]
    },
    {
     "name": "stdout",
     "output_type": "stream",
     "text": [
      "Processing bird_id 73: Rook (image 2)\n",
      "Processing bird_id 73: Rook (image 3)\n"
     ]
    },
    {
     "name": "stderr",
     "output_type": "stream",
     "text": [
      "Processing images:  84%|████████▍ | 357/423 [02:28<00:15,  4.33it/s]"
     ]
    },
    {
     "name": "stdout",
     "output_type": "stream",
     "text": [
      "Processing bird_id 73: Rook (image 4)\n",
      "Processing bird_id 73: Rook (image 5)\n"
     ]
    },
    {
     "name": "stderr",
     "output_type": "stream",
     "text": [
      "Processing images:  85%|████████▍ | 359/423 [02:28<00:13,  4.84it/s]"
     ]
    },
    {
     "name": "stdout",
     "output_type": "stream",
     "text": [
      "Processing bird_id 74: Sedge Warbler (image 1)\n",
      "Processing bird_id 74: Sedge Warbler (image 2)\n"
     ]
    },
    {
     "name": "stderr",
     "output_type": "stream",
     "text": [
      "Processing images:  85%|████████▌ | 361/423 [02:29<00:13,  4.58it/s]"
     ]
    },
    {
     "name": "stdout",
     "output_type": "stream",
     "text": [
      "Processing bird_id 74: Sedge Warbler (image 3)\n",
      "Processing bird_id 74: Sedge Warbler (image 4)\n"
     ]
    },
    {
     "name": "stderr",
     "output_type": "stream",
     "text": [
      "Processing images:  86%|████████▌ | 363/423 [02:29<00:12,  4.79it/s]"
     ]
    },
    {
     "name": "stdout",
     "output_type": "stream",
     "text": [
      "Processing bird_id 74: Sedge Warbler (image 5)\n",
      "Processing bird_id 75: Song Thrush (image 1)\n"
     ]
    },
    {
     "name": "stderr",
     "output_type": "stream",
     "text": [
      "Processing images:  86%|████████▌ | 364/423 [02:29<00:13,  4.53it/s]"
     ]
    },
    {
     "name": "stdout",
     "output_type": "stream",
     "text": [
      "Processing bird_id 75: Song Thrush (image 2)\n"
     ]
    },
    {
     "name": "stderr",
     "output_type": "stream",
     "text": [
      "Processing images:  87%|████████▋ | 366/423 [02:30<00:12,  4.47it/s]"
     ]
    },
    {
     "name": "stdout",
     "output_type": "stream",
     "text": [
      "Processing bird_id 75: Song Thrush (image 3)\n",
      "Processing bird_id 75: Song Thrush (image 4)\n"
     ]
    },
    {
     "name": "stderr",
     "output_type": "stream",
     "text": [
      "Processing images:  87%|████████▋ | 368/423 [02:30<00:13,  4.19it/s]"
     ]
    },
    {
     "name": "stdout",
     "output_type": "stream",
     "text": [
      "Processing bird_id 75: Song Thrush (image 5)\n",
      "Processing bird_id 76: Spotted Flycatcher (image 1)\n"
     ]
    },
    {
     "name": "stderr",
     "output_type": "stream",
     "text": [
      "Processing images:  87%|████████▋ | 369/423 [02:31<00:18,  2.94it/s]"
     ]
    },
    {
     "name": "stdout",
     "output_type": "stream",
     "text": [
      "Processing bird_id 76: Spotted Flycatcher (image 2)\n"
     ]
    },
    {
     "name": "stderr",
     "output_type": "stream",
     "text": [
      "Processing images:  87%|████████▋ | 370/423 [02:31<00:16,  3.28it/s]"
     ]
    },
    {
     "name": "stdout",
     "output_type": "stream",
     "text": [
      "Processing bird_id 76: Spotted Flycatcher (image 3)\n"
     ]
    },
    {
     "name": "stderr",
     "output_type": "stream",
     "text": [
      "Processing images:  88%|████████▊ | 372/423 [02:32<00:12,  4.07it/s]"
     ]
    },
    {
     "name": "stdout",
     "output_type": "stream",
     "text": [
      "Processing bird_id 76: Spotted Flycatcher (image 4)\n",
      "Processing bird_id 76: Spotted Flycatcher (image 5)\n"
     ]
    },
    {
     "name": "stderr",
     "output_type": "stream",
     "text": [
      "Processing images:  88%|████████▊ | 374/423 [02:32<00:10,  4.80it/s]"
     ]
    },
    {
     "name": "stdout",
     "output_type": "stream",
     "text": [
      "Processing bird_id 77: Stock Dove (image 1)\n",
      "Processing bird_id 77: Stock Dove (image 2)\n"
     ]
    },
    {
     "name": "stderr",
     "output_type": "stream",
     "text": [
      "Processing images:  89%|████████▊ | 375/423 [02:32<00:08,  5.36it/s]"
     ]
    },
    {
     "name": "stdout",
     "output_type": "stream",
     "text": [
      "Processing bird_id 78: Tawny Owl (image 1)\n"
     ]
    },
    {
     "name": "stderr",
     "output_type": "stream",
     "text": [
      "Processing images:  89%|████████▉ | 377/423 [02:33<00:10,  4.31it/s]"
     ]
    },
    {
     "name": "stdout",
     "output_type": "stream",
     "text": [
      "Processing bird_id 78: Tawny Owl (image 2)\n"
     ]
    },
    {
     "name": "stderr",
     "output_type": "stream",
     "text": [
      "Processing images:  89%|████████▉ | 378/423 [02:33<00:09,  4.66it/s]"
     ]
    },
    {
     "name": "stdout",
     "output_type": "stream",
     "text": [
      "Processing bird_id 78: Tawny Owl (image 3)\n",
      "Processing bird_id 79: Tree Pipit (image 1)\n"
     ]
    },
    {
     "name": "stderr",
     "output_type": "stream",
     "text": [
      "Processing images:  90%|████████▉ | 379/423 [02:33<00:10,  4.18it/s]"
     ]
    },
    {
     "name": "stdout",
     "output_type": "stream",
     "text": [
      "Processing bird_id 79: Tree Pipit (image 2)\n"
     ]
    },
    {
     "name": "stderr",
     "output_type": "stream",
     "text": [
      "Processing images:  90%|████████▉ | 380/423 [02:33<00:09,  4.31it/s]"
     ]
    },
    {
     "name": "stdout",
     "output_type": "stream",
     "text": [
      "Processing bird_id 79: Tree Pipit (image 3)\n"
     ]
    },
    {
     "name": "stderr",
     "output_type": "stream",
     "text": [
      "Processing images:  90%|█████████ | 382/423 [02:34<00:08,  4.66it/s]"
     ]
    },
    {
     "name": "stdout",
     "output_type": "stream",
     "text": [
      "Processing bird_id 79: Tree Pipit (image 4)\n"
     ]
    },
    {
     "name": "stderr",
     "output_type": "stream",
     "text": [
      "Processing images:  91%|█████████ | 383/423 [02:34<00:07,  5.02it/s]"
     ]
    },
    {
     "name": "stdout",
     "output_type": "stream",
     "text": [
      "Processing bird_id 79: Tree Pipit (image 5)\n",
      "Processing bird_id 80: Western Jackdaw (image 1)\n"
     ]
    },
    {
     "name": "stderr",
     "output_type": "stream",
     "text": [
      "Processing images:  91%|█████████ | 384/423 [02:34<00:07,  4.89it/s]"
     ]
    },
    {
     "name": "stdout",
     "output_type": "stream",
     "text": [
      "Processing bird_id 80: Western Jackdaw (image 2)\n"
     ]
    },
    {
     "name": "stderr",
     "output_type": "stream",
     "text": [
      "Processing images:  91%|█████████ | 385/423 [02:35<00:11,  3.40it/s]"
     ]
    },
    {
     "name": "stdout",
     "output_type": "stream",
     "text": [
      "Processing bird_id 80: Western Jackdaw (image 3)\n"
     ]
    },
    {
     "name": "stderr",
     "output_type": "stream",
     "text": [
      "Processing images:  91%|█████████▏| 386/423 [02:35<00:14,  2.53it/s]"
     ]
    },
    {
     "name": "stdout",
     "output_type": "stream",
     "text": [
      "Processing bird_id 80: Western Jackdaw (image 4)\n"
     ]
    },
    {
     "name": "stderr",
     "output_type": "stream",
     "text": [
      "Processing images:  91%|█████████▏| 387/423 [02:36<00:15,  2.39it/s]"
     ]
    },
    {
     "name": "stdout",
     "output_type": "stream",
     "text": [
      "Processing bird_id 80: Western Jackdaw (image 5)\n"
     ]
    },
    {
     "name": "stderr",
     "output_type": "stream",
     "text": [
      "Processing images:  92%|█████████▏| 388/423 [02:36<00:14,  2.40it/s]"
     ]
    },
    {
     "name": "stdout",
     "output_type": "stream",
     "text": [
      "Processing bird_id 81: Western Yellow Wagtail (image 1)\n"
     ]
    },
    {
     "name": "stderr",
     "output_type": "stream",
     "text": [
      "Processing images:  92%|█████████▏| 390/423 [02:37<00:10,  3.10it/s]"
     ]
    },
    {
     "name": "stdout",
     "output_type": "stream",
     "text": [
      "Processing bird_id 81: Western Yellow Wagtail (image 2)\n",
      "Processing bird_id 81: Western Yellow Wagtail (image 3)\n"
     ]
    },
    {
     "name": "stderr",
     "output_type": "stream",
     "text": [
      "Processing images:  92%|█████████▏| 391/423 [02:37<00:10,  3.19it/s]"
     ]
    },
    {
     "name": "stdout",
     "output_type": "stream",
     "text": [
      "Processing bird_id 81: Western Yellow Wagtail (image 4)\n"
     ]
    },
    {
     "name": "stderr",
     "output_type": "stream",
     "text": [
      "Processing images:  93%|█████████▎| 392/423 [02:37<00:08,  3.46it/s]"
     ]
    },
    {
     "name": "stdout",
     "output_type": "stream",
     "text": [
      "Processing bird_id 81: Western Yellow Wagtail (image 5)\n"
     ]
    },
    {
     "name": "stderr",
     "output_type": "stream",
     "text": [
      "Processing images:  93%|█████████▎| 393/423 [02:38<00:09,  3.25it/s]"
     ]
    },
    {
     "name": "stdout",
     "output_type": "stream",
     "text": [
      "Processing bird_id 82: Willow Ptarmigan (image 1)\n"
     ]
    },
    {
     "name": "stderr",
     "output_type": "stream",
     "text": [
      "Processing images:  93%|█████████▎| 395/423 [02:38<00:08,  3.42it/s]"
     ]
    },
    {
     "name": "stdout",
     "output_type": "stream",
     "text": [
      "Processing bird_id 82: Willow Ptarmigan (image 2)\n",
      "Processing bird_id 82: Willow Ptarmigan (image 3)\n"
     ]
    },
    {
     "name": "stderr",
     "output_type": "stream",
     "text": [
      "Processing images:  94%|█████████▍| 397/423 [02:38<00:06,  4.21it/s]"
     ]
    },
    {
     "name": "stdout",
     "output_type": "stream",
     "text": [
      "Processing bird_id 82: Willow Ptarmigan (image 4)\n"
     ]
    },
    {
     "name": "stderr",
     "output_type": "stream",
     "text": [
      "Processing images:  94%|█████████▍| 398/423 [02:39<00:05,  4.63it/s]"
     ]
    },
    {
     "name": "stdout",
     "output_type": "stream",
     "text": [
      "Processing bird_id 82: Willow Ptarmigan (image 5)\n",
      "Processing bird_id 83: Willow Tit (image 1)\n"
     ]
    },
    {
     "name": "stderr",
     "output_type": "stream",
     "text": [
      "Processing images:  95%|█████████▍| 400/423 [02:39<00:04,  4.71it/s]"
     ]
    },
    {
     "name": "stdout",
     "output_type": "stream",
     "text": [
      "Processing bird_id 83: Willow Tit (image 2)\n"
     ]
    },
    {
     "name": "stderr",
     "output_type": "stream",
     "text": [
      "Processing images:  95%|█████████▍| 401/423 [02:39<00:04,  4.93it/s]"
     ]
    },
    {
     "name": "stdout",
     "output_type": "stream",
     "text": [
      "Processing bird_id 83: Willow Tit (image 3)\n"
     ]
    },
    {
     "name": "stderr",
     "output_type": "stream",
     "text": [
      "Processing images:  95%|█████████▌| 402/423 [02:39<00:04,  4.94it/s]"
     ]
    },
    {
     "name": "stdout",
     "output_type": "stream",
     "text": [
      "Processing bird_id 83: Willow Tit (image 4)\n"
     ]
    },
    {
     "name": "stderr",
     "output_type": "stream",
     "text": [
      "Processing images:  95%|█████████▌| 403/423 [02:40<00:03,  5.27it/s]"
     ]
    },
    {
     "name": "stdout",
     "output_type": "stream",
     "text": [
      "Processing bird_id 83: Willow Tit (image 5)\n",
      "Processing bird_id 84: Willow Warbler (image 1)\n"
     ]
    },
    {
     "name": "stderr",
     "output_type": "stream",
     "text": [
      "Processing images:  96%|█████████▌| 405/423 [02:40<00:03,  5.02it/s]"
     ]
    },
    {
     "name": "stdout",
     "output_type": "stream",
     "text": [
      "Processing bird_id 84: Willow Warbler (image 2)\n",
      "Processing bird_id 84: Willow Warbler (image 3)\n"
     ]
    },
    {
     "name": "stderr",
     "output_type": "stream",
     "text": [
      "Processing images:  96%|█████████▌| 406/423 [02:40<00:03,  4.44it/s]"
     ]
    },
    {
     "name": "stdout",
     "output_type": "stream",
     "text": [
      "Processing bird_id 84: Willow Warbler (image 4)\n"
     ]
    },
    {
     "name": "stderr",
     "output_type": "stream",
     "text": [
      "Processing images:  96%|█████████▌| 407/423 [02:41<00:03,  4.41it/s]"
     ]
    },
    {
     "name": "stdout",
     "output_type": "stream",
     "text": [
      "Processing bird_id 84: Willow Warbler (image 5)\n"
     ]
    },
    {
     "name": "stderr",
     "output_type": "stream",
     "text": [
      "Processing images:  96%|█████████▋| 408/423 [02:41<00:04,  3.75it/s]"
     ]
    },
    {
     "name": "stdout",
     "output_type": "stream",
     "text": [
      "Processing bird_id 85: Wood Sandpiper (image 1)\n"
     ]
    },
    {
     "name": "stderr",
     "output_type": "stream",
     "text": [
      "Processing images:  97%|█████████▋| 409/423 [02:41<00:03,  3.98it/s]"
     ]
    },
    {
     "name": "stdout",
     "output_type": "stream",
     "text": [
      "Processing bird_id 85: Wood Sandpiper (image 2)\n"
     ]
    },
    {
     "name": "stderr",
     "output_type": "stream",
     "text": [
      "Processing images:  97%|█████████▋| 410/423 [02:41<00:03,  3.93it/s]"
     ]
    },
    {
     "name": "stdout",
     "output_type": "stream",
     "text": [
      "Processing bird_id 85: Wood Sandpiper (image 3)\n"
     ]
    },
    {
     "name": "stderr",
     "output_type": "stream",
     "text": [
      "Processing images:  97%|█████████▋| 411/423 [02:42<00:03,  3.81it/s]"
     ]
    },
    {
     "name": "stdout",
     "output_type": "stream",
     "text": [
      "Processing bird_id 85: Wood Sandpiper (image 4)\n"
     ]
    },
    {
     "name": "stderr",
     "output_type": "stream",
     "text": [
      "Processing images:  98%|█████████▊| 413/423 [02:42<00:02,  4.33it/s]"
     ]
    },
    {
     "name": "stdout",
     "output_type": "stream",
     "text": [
      "Processing bird_id 85: Wood Sandpiper (image 5)\n",
      "Processing bird_id 86: Wood Warbler (image 1)\n"
     ]
    },
    {
     "name": "stderr",
     "output_type": "stream",
     "text": [
      "Processing images:  98%|█████████▊| 414/423 [02:42<00:01,  5.01it/s]"
     ]
    },
    {
     "name": "stdout",
     "output_type": "stream",
     "text": [
      "Processing bird_id 86: Wood Warbler (image 2)\n"
     ]
    },
    {
     "name": "stderr",
     "output_type": "stream",
     "text": [
      "Processing images:  98%|█████████▊| 416/423 [02:43<00:01,  5.32it/s]"
     ]
    },
    {
     "name": "stdout",
     "output_type": "stream",
     "text": [
      "Processing bird_id 86: Wood Warbler (image 3)\n",
      "Processing bird_id 86: Wood Warbler (image 4)\n"
     ]
    },
    {
     "name": "stderr",
     "output_type": "stream",
     "text": [
      "Processing images:  99%|█████████▉| 418/423 [02:43<00:00,  5.32it/s]"
     ]
    },
    {
     "name": "stdout",
     "output_type": "stream",
     "text": [
      "Processing bird_id 86: Wood Warbler (image 5)\n",
      "Processing bird_id 87: Yellowhammer (image 1)\n"
     ]
    },
    {
     "name": "stderr",
     "output_type": "stream",
     "text": [
      "Processing images:  99%|█████████▉| 420/423 [02:43<00:00,  4.99it/s]"
     ]
    },
    {
     "name": "stdout",
     "output_type": "stream",
     "text": [
      "Processing bird_id 87: Yellowhammer (image 2)\n",
      "Processing bird_id 87: Yellowhammer (image 3)\n"
     ]
    },
    {
     "name": "stderr",
     "output_type": "stream",
     "text": [
      "Processing images: 100%|█████████▉| 422/423 [02:44<00:00,  4.97it/s]"
     ]
    },
    {
     "name": "stdout",
     "output_type": "stream",
     "text": [
      "Processing bird_id 87: Yellowhammer (image 4)\n",
      "Processing bird_id 87: Yellowhammer (image 5)\n"
     ]
    },
    {
     "name": "stderr",
     "output_type": "stream",
     "text": [
      "Processing images: 100%|██████████| 423/423 [02:44<00:00,  2.57it/s]"
     ]
    },
    {
     "name": "stdout",
     "output_type": "stream",
     "text": [
      "\n",
      "✅ Extracted 423 image feature vectors with bird_ids!\n",
      "💾 Saved to: bird_image_features_complete.pkl\n",
      "\n",
      "📊 Processing Summary:\n",
      "   - Total images processed: 423\n",
      "   - Feature vector size: (2048,)\n",
      "   - Unique bird_ids: 88\n",
      "   - Unique species: 88\n",
      "   - Sample bird_ids: [0, 0, 0, 0, 0]\n",
      "   - Sample species: ['African Pied Wagtail', 'African Pied Wagtail', 'African Pied Wagtail', 'African Pied Wagtail', 'African Pied Wagtail']\n",
      "📋 Feature summary saved to: bird_image_features_summary.csv\n"
     ]
    },
    {
     "name": "stderr",
     "output_type": "stream",
     "text": [
      "\n"
     ]
    }
   ],
   "source": [
    "# Enhanced image embedding extraction script with full bird metadata\n",
    "import pandas as pd\n",
    "import numpy as np\n",
    "import torch\n",
    "import torch.nn as nn\n",
    "from torchvision import models, transforms\n",
    "from PIL import Image\n",
    "import pickle\n",
    "import os\n",
    "from tqdm import tqdm\n",
    "\n",
    "# Set device\n",
    "device = torch.device('cuda' if torch.cuda.is_available() else 'cpu')\n",
    "print(f\"Using device: {device}\")\n",
    "\n",
    "# Load pre-trained ResNet50 model\n",
    "# Option 1: Use standard ImageNet pre-trained ResNet\n",
    "model = models.resnet50(pretrained=True)\n",
    "# Remove the final classification layer to get feature embeddings\n",
    "model = nn.Sequential(*list(model.children())[:-1])  # This gives 2048D features\n",
    "model.eval()\n",
    "model.to(device)\n",
    "\n",
    "# Alternative: You could use a model specifically trained on birds like:\n",
    "# from transformers import AutoImageProcessor, AutoModel\n",
    "# processor = AutoImageProcessor.from_pretrained(\"google/vit-base-patch16-224\")\n",
    "# model = AutoModel.from_pretrained(\"google/vit-base-patch16-224\")\n",
    "\n",
    "# Image preprocessing pipeline\n",
    "transform = transforms.Compose([\n",
    "    transforms.Resize(256),\n",
    "    transforms.CenterCrop(224),\n",
    "    transforms.ToTensor(),\n",
    "    transforms.Normalize(mean=[0.485, 0.456, 0.406], std=[0.229, 0.224, 0.225])\n",
    "])\n",
    "\n",
    "# Load your bird images metadata\n",
    "# Assuming your CSV data is in a file called 'bird_images_metadata.csv'\n",
    "\n",
    "# If you have the CSV data in a file\n",
    "images_df = pd.read_csv(\"wikimedia_bird_images.csv\")\n",
    "    \n",
    "print(f\"Loaded {len(images_df)} image records\")\n",
    "print(f\"Unique species: {images_df['species_name'].nunique()}\")\n",
    "print(f\"Unique bird_ids: {images_df['bird_id'].nunique()}\")\n",
    "\n",
    "features_list = []\n",
    "failed_images = []\n",
    "\n",
    "# Process each image\n",
    "for idx, row in tqdm(images_df.iterrows(), total=len(images_df), desc=\"Processing images\"):\n",
    "    print(f\"Processing bird_id {row['bird_id']}: {row['species_name']} (image {row['image_number']})\")\n",
    "    \n",
    "    try:\n",
    "        # Load and preprocess image\n",
    "        image_path = row['image_path']\n",
    "        \n",
    "        # Handle different path formats (Windows vs Unix)\n",
    "        if not os.path.exists(image_path):\n",
    "            # Try with forward slashes\n",
    "            image_path = image_path.replace('\\\\', '/')\n",
    "        \n",
    "        if not os.path.exists(image_path):\n",
    "            print(f\"⚠️  Image not found: {image_path}\")\n",
    "            failed_images.append(row['image_path'])\n",
    "            continue\n",
    "            \n",
    "        # Load and transform image\n",
    "        image = Image.open(image_path).convert('RGB')\n",
    "        image_tensor = transform(image).unsqueeze(0).to(device)\n",
    "        \n",
    "        # Extract features\n",
    "        with torch.no_grad():\n",
    "            features = model(image_tensor)\n",
    "            features = features.view(features.size(0), -1)  # Flatten\n",
    "            features = features.squeeze().cpu().numpy()\n",
    "        \n",
    "        # Save ALL metadata including bird_id\n",
    "        features_list.append({\n",
    "            'bird_id': int(row['bird_id']),              # Important: Bird ID\n",
    "            'species_name': row['species_name'],          # Species name\n",
    "            'image_path': row['image_path'],              # Original image path\n",
    "            'image_number': int(row['image_number']),     # Image number for this species\n",
    "            'source_url': row['source_url'],              # Original source URL\n",
    "            'source_title': row['source_title'],          # Source title\n",
    "            'width': int(row['width']),                   # Image dimensions\n",
    "            'height': int(row['height']),\n",
    "            'file_size_mb': float(row['file_size_mb']),   # File size\n",
    "            'source': row['source'],                      # Source (Wikimedia Commons)\n",
    "            'license': row['license'],                    # License info\n",
    "            'quality_score': int(row['quality_score']),   # Quality rating\n",
    "            'features': features,                         # 2048D ResNet features\n",
    "            'feature_shape': features.shape,              # Vector shape info\n",
    "            'model_used': 'ResNet50_ImageNet'             # Model identifier\n",
    "        })\n",
    "        \n",
    "    except Exception as e:\n",
    "        print(f\"❌ Error processing {row['image_path']}: {str(e)}\")\n",
    "        failed_images.append(row['image_path'])\n",
    "        continue\n",
    "\n",
    "# Save features with all metadata\n",
    "output_file = 'bird_image_features.pkl'\n",
    "with open(output_file, 'wb') as f:\n",
    "    pickle.dump(features_list, f)\n",
    "\n",
    "print(f\"\\n✅ Extracted {len(features_list)} image feature vectors with bird_ids!\")\n",
    "print(f\"💾 Saved to: {output_file}\")\n",
    "\n",
    "if failed_images:\n",
    "    print(f\"⚠️  Failed to process {len(failed_images)} images:\")\n",
    "    for failed in failed_images[:10]:  # Show first 10 failures\n",
    "        print(f\"   - {failed}\")\n",
    "    if len(failed_images) > 10:\n",
    "        print(f\"   ... and {len(failed_images) - 10} more\")\n",
    "\n",
    "# Quick verification and statistics\n",
    "print(f\"\\n📊 Processing Summary:\")\n",
    "print(f\"   - Total images processed: {len(features_list)}\")\n",
    "print(f\"   - Feature vector size: {features_list[0]['feature_shape'] if features_list else 'N/A'}\")\n",
    "print(f\"   - Unique bird_ids: {len(set(item['bird_id'] for item in features_list))}\")\n",
    "print(f\"   - Unique species: {len(set(item['species_name'] for item in features_list))}\")\n",
    "\n",
    "# Show sample of bird IDs saved\n",
    "if features_list:\n",
    "    sample_bird_ids = [item['bird_id'] for item in features_list[:5]]\n",
    "    sample_species = [item['species_name'] for item in features_list[:5]]\n",
    "    print(f\"   - Sample bird_ids: {sample_bird_ids}\")\n",
    "    print(f\"   - Sample species: {sample_species}\")\n",
    "\n",
    "# Save a summary CSV for reference\n",
    "summary_df = pd.DataFrame([\n",
    "    {\n",
    "        'bird_id': item['bird_id'],\n",
    "        'species_name': item['species_name'],\n",
    "        'image_number': item['image_number'],\n",
    "        'feature_shape': str(item['feature_shape']),\n",
    "        'quality_score': item['quality_score']\n",
    "    }\n",
    "    for item in features_list\n",
    "])\n",
    "\n",
    "summary_df.to_csv('bird_image_features_summary.csv', index=False)\n",
    "print(f\"📋 Feature summary saved to: bird_image_features_summary.csv\")"
   ]
  },
  {
   "cell_type": "code",
   "execution_count": null,
   "id": "2f3efcbf",
   "metadata": {},
   "outputs": [
    {
     "name": "stdout",
     "output_type": "stream",
     "text": [
      "🔍 Loading image features...\n",
      "✅ Loaded 423 image feature records\n",
      "\n",
      "📋 BASIC INFO\n",
      "========================================\n",
      "Feature vector shape: (2048,)\n",
      "Feature vector dtype: float32\n",
      "Model used: ResNet50_ImageNet\n",
      "\n",
      "📊 FEATURE STATISTICS\n",
      "========================================\n",
      "Total images: 423\n",
      "Feature matrix shape: (423, 2048)\n",
      "Memory usage: 3.30 MB\n",
      "\n",
      "Feature values:\n",
      "  Mean: 0.439698\n",
      "  Std:  0.422492\n",
      "  Min:  0.000000\n",
      "  Max:  9.125230\n",
      "\n",
      "Data quality:\n",
      "  NaN values: 0\n",
      "  Infinite values: 0\n",
      "  Zero vectors: 0\n",
      "\n",
      "🐦 BIRD DATA\n",
      "========================================\n",
      "Unique bird IDs: 88\n",
      "Unique species: 88\n",
      "\n",
      "Images per bird_id:\n",
      "  Min: 2\n",
      "  Max: 5\n",
      "  Mean: 4.8\n",
      "\n",
      "Images per species:\n",
      "  Min: 2\n",
      "  Max: 5\n",
      "  Mean: 4.8\n",
      "\n",
      "Quality score distribution:\n",
      "  Score 3: 2 images\n",
      "  Score 4: 18 images\n",
      "  Score 5: 54 images\n",
      "  Score 6: 349 images\n",
      "\n",
      "📝 SAMPLE DATA\n",
      "========================================\n",
      "First 3 records:\n",
      "  1. Bird ID 0: African Pied Wagtail\n",
      "     Image 1, Quality: 6\n",
      "     Feature norm: 22.449\n",
      "  2. Bird ID 0: African Pied Wagtail\n",
      "     Image 2, Quality: 6\n",
      "     Feature norm: 25.111\n",
      "  3. Bird ID 0: African Pied Wagtail\n",
      "     Image 3, Quality: 6\n",
      "     Feature norm: 23.488\n",
      "\n",
      "✅ Feature check complete!\n"
     ]
    }
   ],
   "source": [
    "# Simple script to check extracted bird image features - statistics only\n",
    "import pickle\n",
    "import numpy as np\n",
    "from collections import Counter\n",
    "\n",
    "def check_image_features(pickle_file='bird_image_features.pkl'):\n",
    "    \"\"\"Load and display basic statistics for image features\"\"\"\n",
    "    \n",
    "    print(\"🔍 Loading image features...\")\n",
    "    with open(pickle_file, 'rb') as f:\n",
    "        features_list = pickle.load(f)\n",
    "    \n",
    "    print(f\"✅ Loaded {len(features_list)} image feature records\\n\")\n",
    "    \n",
    "    # Basic info\n",
    "    print(\"📋 BASIC INFO\")\n",
    "    print(\"=\" * 40)\n",
    "    first_item = features_list[0]\n",
    "    print(f\"Feature vector shape: {first_item['features'].shape}\")\n",
    "    print(f\"Feature vector dtype: {first_item['features'].dtype}\")\n",
    "    print(f\"Model used: {first_item.get('model_used', 'Unknown')}\")\n",
    "    \n",
    "    # Extract all features and metadata\n",
    "    all_features = np.array([item['features'] for item in features_list])\n",
    "    bird_ids = [item['bird_id'] for item in features_list]\n",
    "    species_names = [item['species_name'] for item in features_list]\n",
    "    quality_scores = [item['quality_score'] for item in features_list]\n",
    "    \n",
    "    print(f\"\\n📊 FEATURE STATISTICS\")\n",
    "    print(\"=\" * 40)\n",
    "    print(f\"Total images: {len(features_list)}\")\n",
    "    print(f\"Feature matrix shape: {all_features.shape}\")\n",
    "    print(f\"Memory usage: {all_features.nbytes / 1024 / 1024:.2f} MB\")\n",
    "    \n",
    "    print(f\"\\nFeature values:\")\n",
    "    print(f\"  Mean: {np.mean(all_features):.6f}\")\n",
    "    print(f\"  Std:  {np.std(all_features):.6f}\")\n",
    "    print(f\"  Min:  {np.min(all_features):.6f}\")\n",
    "    print(f\"  Max:  {np.max(all_features):.6f}\")\n",
    "    \n",
    "    # Data quality\n",
    "    nan_count = np.isnan(all_features).sum()\n",
    "    inf_count = np.isinf(all_features).sum()\n",
    "    zero_vectors = np.sum(np.all(all_features == 0, axis=1))\n",
    "    \n",
    "    print(f\"\\nData quality:\")\n",
    "    print(f\"  NaN values: {nan_count}\")\n",
    "    print(f\"  Infinite values: {inf_count}\")\n",
    "    print(f\"  Zero vectors: {zero_vectors}\")\n",
    "    \n",
    "    # Bird data stats\n",
    "    print(f\"\\n🐦 BIRD DATA\")\n",
    "    print(\"=\" * 40)\n",
    "    unique_bird_ids = len(set(bird_ids))\n",
    "    unique_species = len(set(species_names))\n",
    "    \n",
    "    print(f\"Unique bird IDs: {unique_bird_ids}\")\n",
    "    print(f\"Unique species: {unique_species}\")\n",
    "    \n",
    "    # Images per bird_id\n",
    "    bird_counts = Counter(bird_ids)\n",
    "    print(f\"\\nImages per bird_id:\")\n",
    "    print(f\"  Min: {min(bird_counts.values())}\")\n",
    "    print(f\"  Max: {max(bird_counts.values())}\")\n",
    "    print(f\"  Mean: {np.mean(list(bird_counts.values())):.1f}\")\n",
    "    \n",
    "    # Images per species\n",
    "    species_counts = Counter(species_names)\n",
    "    print(f\"\\nImages per species:\")\n",
    "    print(f\"  Min: {min(species_counts.values())}\")\n",
    "    print(f\"  Max: {max(species_counts.values())}\")\n",
    "    print(f\"  Mean: {np.mean(list(species_counts.values())):.1f}\")\n",
    "    \n",
    "    # Quality scores\n",
    "    quality_dist = Counter(quality_scores)\n",
    "    print(f\"\\nQuality score distribution:\")\n",
    "    for score in sorted(quality_dist.keys()):\n",
    "        print(f\"  Score {score}: {quality_dist[score]} images\")\n",
    "    \n",
    "    # Sample data preview\n",
    "    print(f\"\\n📝 SAMPLE DATA\")\n",
    "    print(\"=\" * 40)\n",
    "    print(\"First 3 records:\")\n",
    "    for i in range(min(3, len(features_list))):\n",
    "        item = features_list[i]\n",
    "        print(f\"  {i+1}. Bird ID {item['bird_id']}: {item['species_name']}\")\n",
    "        print(f\"     Image {item['image_number']}, Quality: {item['quality_score']}\")\n",
    "        print(f\"     Feature norm: {np.linalg.norm(item['features']):.3f}\")\n",
    "    \n",
    "    print(f\"\\n✅ Feature check complete!\")\n",
    "    \n",
    "    return {\n",
    "        'total_images': len(features_list),\n",
    "        'feature_shape': all_features.shape,\n",
    "        'unique_birds': unique_bird_ids,\n",
    "        'unique_species': unique_species,\n",
    "        'feature_stats': {\n",
    "            'mean': np.mean(all_features),\n",
    "            'std': np.std(all_features),\n",
    "            'min': np.min(all_features),\n",
    "            'max': np.max(all_features)\n",
    "        },\n",
    "        'data_quality': {\n",
    "            'nan_count': nan_count,\n",
    "            'inf_count': inf_count,\n",
    "            'zero_vectors': zero_vectors\n",
    "        }\n",
    "    }\n",
    "\n",
    "if __name__ == \"__main__\":\n",
    "    # Run the check\n",
    "    stats = check_image_features()"
   ]
  },
  {
   "cell_type": "code",
   "execution_count": 2,
   "id": "77a3faf0",
   "metadata": {},
   "outputs": [
    {
     "name": "stdout",
     "output_type": "stream",
     "text": [
      "Bird Image Features Uploader for Qdrant Cloud\n",
      "==================================================\n",
      "Loading image features from features/bird_image_features.pkl...\n",
      "Loaded 423 image records\n",
      "Connected to Qdrant Cloud: https://559d3608-530f-4a96-97f3-4bb6202a5fb9.us-west-1-0.aws.cloud.qdrant.io\n",
      "Feature dimensions: 2048\n",
      "Deleted existing collection: bird_image_search\n",
      "Created collection: bird_image_search\n",
      "Uploading 423 points in 5 batches...\n",
      "Uploaded batch 1/5 (100 points)\n",
      "Uploaded batch 2/5 (100 points)\n",
      "Uploaded batch 3/5 (100 points)\n",
      "Uploaded batch 4/5 (100 points)\n",
      "Uploaded batch 5/5 (23 points)\n",
      "Successfully uploaded 423 image features to Qdrant Cloud!\n",
      "\n",
      "Testing search functionality...\n",
      "\n",
      "Similar images to African Pied Wagtail (bird_id: 0):\n",
      "  ID 0: African Pied Wagtail (bird_id: 0, score: 1.000)\n",
      "  ID 4: African Pied Wagtail (bird_id: 0, score: 0.879)\n",
      "  ID 169: Eurasian Jay (bird_id: 34, score: 0.851)\n",
      "  ID 3: African Pied Wagtail (bird_id: 0, score: 0.844)\n",
      "  ID 167: Eurasian Jay (bird_id: 34, score: 0.830)\n",
      "\n",
      "Collection Summary:\n",
      "  Name: bird_image_search\n",
      "  Points: 423\n",
      "  Dimensions: 2048\n",
      "  Status: green\n",
      "\n",
      "Image features successfully uploaded!\n"
     ]
    },
    {
     "name": "stderr",
     "output_type": "stream",
     "text": [
      "C:\\Users\\parth\\AppData\\Local\\Temp\\ipykernel_16568\\416931229.py:121: DeprecationWarning: `search` method is deprecated and will be removed in the future. Use `query_points` instead.\n",
      "  results = client.search(\n"
     ]
    }
   ],
   "source": [
    "from qdrant_client import QdrantClient\n",
    "from qdrant_client.models import Distance, VectorParams, PointStruct\n",
    "import pickle\n",
    "import os\n",
    "from dotenv import load_dotenv\n",
    "import numpy as np\n",
    "\n",
    "# Load environment variables\n",
    "load_dotenv()\n",
    "\n",
    "def upload_image_features():\n",
    "    \"\"\"Upload bird image features to Qdrant Cloud\"\"\"\n",
    "    \n",
    "    # Load features from the features folder\n",
    "    features_file = 'features/bird_image_features.pkl'\n",
    "    \n",
    "    print(f\"Loading image features from {features_file}...\")\n",
    "    \n",
    "    try:\n",
    "        with open(features_file, 'rb') as f:\n",
    "            features_list = pickle.load(f)\n",
    "    except FileNotFoundError:\n",
    "        print(f\"File not found: {features_file}\")\n",
    "        print(\"Available files in features folder:\")\n",
    "        if os.path.exists('features'):\n",
    "            for file in os.listdir('features'):\n",
    "                if file.endswith('.pkl'):\n",
    "                    print(f\"  - {file}\")\n",
    "        return False\n",
    "    \n",
    "    print(f\"Loaded {len(features_list)} image records\")\n",
    "    \n",
    "    # Connect to Qdrant Cloud\n",
    "    client = QdrantClient(\n",
    "        url=os.getenv('QDRANT_ENDPOINT'),\n",
    "        api_key=os.getenv('QDRANT_API_KEY'),\n",
    "    )\n",
    "    \n",
    "    print(f\"Connected to Qdrant Cloud: {os.getenv('QDRANT_ENDPOINT')}\")\n",
    "    \n",
    "    # Get feature dimensions\n",
    "    sample_features = features_list[0]['features']\n",
    "    feature_dim = len(sample_features)\n",
    "    print(f\"Feature dimensions: {feature_dim}\")\n",
    "    \n",
    "    # Create collection\n",
    "    collection_name = \"bird_image_search\"\n",
    "    \n",
    "    try:\n",
    "        # Delete collection if it exists\n",
    "        try:\n",
    "            client.delete_collection(collection_name)\n",
    "            print(f\"Deleted existing collection: {collection_name}\")\n",
    "        except:\n",
    "            pass\n",
    "        \n",
    "        # Create new collection\n",
    "        client.create_collection(\n",
    "            collection_name=collection_name,\n",
    "            vectors_config=VectorParams(size=feature_dim, distance=Distance.COSINE)\n",
    "        )\n",
    "        print(f\"Created collection: {collection_name}\")\n",
    "        \n",
    "    except Exception as e:\n",
    "        print(f\"Error creating collection: {e}\")\n",
    "        return False\n",
    "    \n",
    "    # Prepare points for upload\n",
    "    points = []\n",
    "    \n",
    "    for idx, item in enumerate(features_list):\n",
    "        # Create point with comprehensive metadata\n",
    "        point = PointStruct(\n",
    "            id=idx,  # Use index as point ID\n",
    "            vector=item['features'].tolist() if isinstance(item['features'], np.ndarray) else item['features'],\n",
    "            payload={\n",
    "                \"bird_id\": item['bird_id'],\n",
    "                \"species_name\": item['species_name'],\n",
    "                \"image_path\": item['image_path'],\n",
    "                \"image_number\": item['image_number'],\n",
    "                \"source_url\": item['source_url'],\n",
    "                \"source_title\": item['source_title'],\n",
    "                \"width\": item['width'],\n",
    "                \"height\": item['height'],\n",
    "                \"file_size_mb\": item['file_size_mb'],\n",
    "                \"source\": item['source'],\n",
    "                \"license\": item['license'],\n",
    "                \"quality_score\": item['quality_score'],\n",
    "                \"model_used\": item['model_used'],\n",
    "                \"feature_type\": \"resnet50_imagenet\"\n",
    "            }\n",
    "        )\n",
    "        points.append(point)\n",
    "    \n",
    "    # Upload to Qdrant in batches\n",
    "    batch_size = 100\n",
    "    total_batches = (len(points) + batch_size - 1) // batch_size\n",
    "    \n",
    "    print(f\"Uploading {len(points)} points in {total_batches} batches...\")\n",
    "    \n",
    "    try:\n",
    "        for i in range(0, len(points), batch_size):\n",
    "            batch = points[i:i + batch_size]\n",
    "            client.upsert(collection_name=collection_name, points=batch)\n",
    "            print(f\"Uploaded batch {i//batch_size + 1}/{total_batches} ({len(batch)} points)\")\n",
    "        \n",
    "        print(f\"Successfully uploaded {len(points)} image features to Qdrant Cloud!\")\n",
    "        \n",
    "    except Exception as e:\n",
    "        print(f\"Error uploading: {e}\")\n",
    "        return False\n",
    "    \n",
    "    # Test search functionality\n",
    "    print(\"\\nTesting search functionality...\")\n",
    "    \n",
    "    try:\n",
    "        # Get a sample vector for testing\n",
    "        test_vector = features_list[0]['features'].tolist() if isinstance(features_list[0]['features'], np.ndarray) else features_list[0]['features']\n",
    "        test_bird = features_list[0]\n",
    "        \n",
    "        results = client.search(\n",
    "            collection_name=collection_name,\n",
    "            query_vector=test_vector,\n",
    "            limit=5\n",
    "        )\n",
    "        \n",
    "        print(f\"\\nSimilar images to {test_bird['species_name']} (bird_id: {test_bird['bird_id']}):\")\n",
    "        for result in results:\n",
    "            print(f\"  ID {result.id}: {result.payload['species_name']} (bird_id: {result.payload['bird_id']}, score: {result.score:.3f})\")\n",
    "        \n",
    "    except Exception as e:\n",
    "        print(f\"Error testing search: {e}\")\n",
    "    \n",
    "    # Collection summary\n",
    "    try:\n",
    "        collection_info = client.get_collection(collection_name)\n",
    "        print(f\"\\nCollection Summary:\")\n",
    "        print(f\"  Name: {collection_name}\")\n",
    "        print(f\"  Points: {collection_info.points_count}\")\n",
    "        print(f\"  Dimensions: {collection_info.config.params.vectors.size}\")\n",
    "        print(f\"  Status: {collection_info.status}\")\n",
    "        \n",
    "    except Exception as e:\n",
    "        print(f\"Error getting collection info: {e}\")\n",
    "    \n",
    "    return True\n",
    "\n",
    "if __name__ == \"__main__\":\n",
    "    print(\"Bird Image Features Uploader for Qdrant Cloud\")\n",
    "    print(\"=\" * 50)\n",
    "    \n",
    "    # Upload features\n",
    "    success = upload_image_features()\n",
    "    \n",
    "    if success:\n",
    "        print(\"\\nImage features successfully uploaded!\")\n",
    "        \n",
    "    else:\n",
    "        print(\"Upload failed. Please check your files and credentials.\")"
   ]
  },
  {
   "cell_type": "code",
   "execution_count": null,
   "id": "46c2a25b",
   "metadata": {},
   "outputs": [],
   "source": [
    "def search_similar_images(bird_id, limit=5):\n",
    "    \"\"\"Search for images similar to a specific bird_id\"\"\"\n",
    "    \n",
    "    # Load features for reference\n",
    "    with open('features/bird_image_features.pkl', 'rb') as f:\n",
    "        features_list = pickle.load(f)\n",
    "    \n",
    "    # Connect to Qdrant\n",
    "    client = QdrantClient(\n",
    "        url=os.getenv('QDRANT_ENDPOINT'),\n",
    "        api_key=os.getenv('QDRANT_API_KEY'),\n",
    "    )\n",
    "    \n",
    "    # Find the target bird\n",
    "    target_bird = None\n",
    "    for item in features_list:\n",
    "        if item['bird_id'] == bird_id:\n",
    "            target_bird = item\n",
    "            break\n",
    "    \n",
    "    if not target_bird:\n",
    "        print(f\"Bird ID {bird_id} not found\")\n",
    "        return\n",
    "    \n",
    "    # Search for similar images\n",
    "    query_vector = target_bird['features'].tolist() if isinstance(target_bird['features'], np.ndarray) else target_bird['features']\n",
    "    \n",
    "    results = client.search(\n",
    "        collection_name=\"bird_image_search\",\n",
    "        query_vector=query_vector,\n",
    "        limit=limit\n",
    "    )\n",
    "    \n",
    "    print(f\"\\nImages similar to bird_id {bird_id} ({target_bird['species_name']}):\")\n",
    "    for result in results:\n",
    "        payload = result.payload\n",
    "        print(f\"  {payload['species_name']} (bird_id: {payload['bird_id']}, quality: {payload['quality_score']}, score: {result.score:.3f})\")\n"
   ]
  }
 ],
 "metadata": {
  "kernelspec": {
   "display_name": "env",
   "language": "python",
   "name": "python3"
  },
  "language_info": {
   "codemirror_mode": {
    "name": "ipython",
    "version": 3
   },
   "file_extension": ".py",
   "mimetype": "text/x-python",
   "name": "python",
   "nbconvert_exporter": "python",
   "pygments_lexer": "ipython3",
   "version": "3.10.6"
  }
 },
 "nbformat": 4,
 "nbformat_minor": 5
}
